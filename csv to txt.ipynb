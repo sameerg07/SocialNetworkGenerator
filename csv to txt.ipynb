{
 "cells": [
  {
   "cell_type": "code",
   "execution_count": 4,
   "metadata": {
    "collapsed": true
   },
   "outputs": [],
   "source": [
    "import csv"
   ]
  },
  {
   "cell_type": "code",
   "execution_count": 18,
   "metadata": {
    "collapsed": true
   },
   "outputs": [],
   "source": [
    "fp1 = open(\"mine.gml\",'w')\n",
    "fp1.write(\"graph\\n[\\n  multigraph 1\\n\")\n",
    "for i in range(1,6007):\n",
    "    fp1.write(\"  node\\n  [\\n    id \"+str(i)+\"\\n  ]\\n\")\n",
    "for i in l:\n",
    "    fp1.write(\"  edge\\n  [\\n    source \"+str(i[0]))\n",
    "    fp1.write(\"\\n    target \"+str(i[1]))\n",
    "    if int(i[2]) in range(-10,4):\n",
    "        fp1.write(\"\\n    weight 0\\n  ]\\n\")\n",
    "    else:\n",
    "        fp1.write(\"\\n    weight 1\\n  ]\\n\")\n",
    "fp1.write(\"\\n]\")\n",
    "    \n",
    "fp1.close()"
   ]
  },
  {
   "cell_type": "code",
   "execution_count": 13,
   "metadata": {
    "collapsed": true
   },
   "outputs": [],
   "source": [
    "fp1 = open(\"data4.txt\",'w')\n",
    "for i in l:\n",
    "    fp1.write(i[0])\n",
    "    fp1.write(\" \")\n",
    "    fp1.write(i[1])\n",
    "    fp1.write(\" \")\n",
    "    if int(i[2]) in range(-10,4):\n",
    "        fp1.write(\"0\")\n",
    "        fp1.write(\"\\n\")\n",
    "    else:\n",
    "        fp1.write(\"1\")\n",
    "        fp1.write(\"\\n\")\n",
    "        \n",
    "fp1.close()"
   ]
  },
  {
   "cell_type": "code",
   "execution_count": null,
   "metadata": {
    "collapsed": true
   },
   "outputs": [],
   "source": []
  }
 ],
 "metadata": {
  "kernelspec": {
   "display_name": "Python 3",
   "language": "python",
   "name": "python3"
  },
  "language_info": {
   "codemirror_mode": {
    "name": "ipython",
    "version": 3
   },
   "file_extension": ".py",
   "mimetype": "text/x-python",
   "name": "python",
   "nbconvert_exporter": "python",
   "pygments_lexer": "ipython3",
   "version": "3.6.5"
  }
 },
 "nbformat": 4,
 "nbformat_minor": 2
}
