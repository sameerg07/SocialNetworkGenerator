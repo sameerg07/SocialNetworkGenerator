{
 "cells": [
  {
   "cell_type": "code",
   "execution_count": 1,
   "metadata": {},
   "outputs": [
    {
     "name": "stdout",
     "output_type": "stream",
     "text": [
      "       Source  Target  Rating        Time  weight\n",
      "0           6       2       4  1289241912       1\n",
      "1           6       5       2  1289241942       0\n",
      "2           1      15       1  1289243140       0\n",
      "3           4       3       7  1289245277       1\n",
      "4          13      16       8  1289254254       1\n",
      "5          13      10       8  1289254301       1\n",
      "6           7       5       1  1289362700       0\n",
      "7           2      21       5  1289370557       1\n",
      "8           2      20       5  1289370622       1\n",
      "9          21       2       5  1289380982       1\n",
      "10         21       1       8  1289441411       1\n",
      "11         21      10       8  1289441438       1\n",
      "12         21       8       9  1289441451       1\n",
      "13         21       3       7  1289441526       1\n",
      "14         17       3       5  1289442313       1\n",
      "15         17      23       1  1289489668       0\n",
      "16         10       1       8  1289555656       1\n",
      "17         10       6       7  1289555731       1\n",
      "18         10      21       8  1289555746       1\n",
      "19         10       8       1  1289555768       0\n",
      "20         10      25      10  1289555842       1\n",
      "21         10       2       7  1289555871       1\n",
      "22         10       3       7  1289555876       1\n",
      "23          4      26       1  1289641694       0\n",
      "24         26       4       1  1289641704       0\n",
      "25          5       1       3  1289660299       0\n",
      "26          5       6       3  1289660319       0\n",
      "27          5       7       1  1289660347       0\n",
      "28          1       5       4  1289710643       1\n",
      "29          6       4       2  1289770700       0\n",
      "...       ...     ...     ...         ...     ...\n",
      "37425    4532    1403       1  1420877700       0\n",
      "37426    4532    2934       1  1420878086       0\n",
      "37427      96    5825       1  1420905786       0\n",
      "37428    5825      96       1  1420906034       0\n",
      "37429    4316    3527       1  1420926295       0\n",
      "37430    4172    5852       1  1420985172       0\n",
      "37431    5852    4172       1  1420993952       0\n",
      "37432    5457    1316       2  1421007714       0\n",
      "37433    3722    5883       1  1421011157       0\n",
      "37434    5883    3864       1  1421012353       0\n",
      "37435    5883    3878       1  1421012670       0\n",
      "37436    5883    3722       1  1421012742       0\n",
      "37437    1316    5457       1  1421019484       0\n",
      "37438    3897    4518       5  1421035824       1\n",
      "37439    4518    3897       4  1421035855       1\n",
      "37440    3640    3828       1  1421094191       0\n",
      "37441    3722    5559       1  1421098418       0\n",
      "37442    3722    5884       1  1421100335       0\n",
      "37443     115    5884       1  1421100351       0\n",
      "37444    3707    5884       1  1421100484       0\n",
      "37445    1512    2822       1  1421111418       0\n",
      "37446    1512    3707       1  1421111437       0\n",
      "37447    1512    5525       1  1421111464       0\n",
      "37448    3707    4205       2  1421129786       0\n",
      "37449      35    5885       1  1421156223       0\n",
      "37450    5578    3707       1  1421174737       0\n",
      "37451    4532    5886       1  1421191636       0\n",
      "37452    5886    4532       1  1421192920       0\n",
      "37453    2392      96       1  1421214090       0\n",
      "37454      96    2392       1  1421230183       0\n",
      "\n",
      "[37455 rows x 5 columns]\n"
     ]
    }
   ],
   "source": [
    "import pandas as pd\n",
    "df = pd.read_csv(\"1.csv\")\n",
    "#print(df)\n",
    "\n",
    "# We will add a column to make this a signed network,\n",
    "# Let us assign 1 if Rating > 4\n",
    "#               0 otherwise\n",
    "df['weight'] = [0 if df.iloc[i]['Rating'] < 4 else 1 for i in range(len(df))]\n",
    "print(df)"
   ]
  },
  {
   "cell_type": "code",
   "execution_count": 2,
   "metadata": {},
   "outputs": [
    {
     "name": "stdout",
     "output_type": "stream",
     "text": [
      "0.8\n"
     ]
    }
   ],
   "source": [
    "# Split according to time\n",
    "#df['Time']\n",
    "\n",
    "df1 = df[df['Time'] < df['Time'].quantile(0.8)]\n",
    "print(len(df1)/len(df))"
   ]
  },
  {
   "cell_type": "code",
   "execution_count": 3,
   "metadata": {},
   "outputs": [],
   "source": [
    "nodes_train = list(set(df1['Source']).union(set(df1['Target'])))\n",
    "len(nodes_train)\n",
    "\n",
    "edges_train = [[df1.iloc[i]['Source'],df1.iloc[i]['Target'],df1.iloc[i]['weight']] for i in range(len(df1))] "
   ]
  },
  {
   "cell_type": "code",
   "execution_count": 4,
   "metadata": {},
   "outputs": [],
   "source": [
    "fp1 = open(\"train.gml\",'w')\n",
    "fp1.write(\"graph\\n[\\n  multigraph 1\\n\")\n",
    "for i in nodes_train:\n",
    "    fp1.write(\"  node\\n  [\\n    id \"+str(i)+\"\\n  ]\\n\")\n",
    "    \n",
    "for i in edges_train:\n",
    "    fp1.write(\"  edge\\n  [\\n    source \"+str(i[0]))\n",
    "    fp1.write(\"\\n    target \"+str(i[1]))\n",
    "    if int(i[2]) in range(-10,4):\n",
    "        fp1.write(\"\\n    weight 0\\n  ]\\n\")\n",
    "    else:\n",
    "        fp1.write(\"\\n    weight 1\\n  ]\\n\")\n",
    "fp1.write(\"\\n]\") \n",
    "fp1.close()"
   ]
  },
  {
   "cell_type": "code",
   "execution_count": null,
   "metadata": {},
   "outputs": [],
   "source": []
  }
 ],
 "metadata": {
  "kernelspec": {
   "display_name": "Python 3",
   "language": "python",
   "name": "python3"
  },
  "language_info": {
   "codemirror_mode": {
    "name": "ipython",
    "version": 3
   },
   "file_extension": ".py",
   "mimetype": "text/x-python",
   "name": "python",
   "nbconvert_exporter": "python",
   "pygments_lexer": "ipython3",
   "version": "3.6.5"
  }
 },
 "nbformat": 4,
 "nbformat_minor": 2
}
