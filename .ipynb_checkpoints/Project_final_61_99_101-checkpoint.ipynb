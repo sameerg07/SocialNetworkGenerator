{
 "cells": [
  {
   "cell_type": "markdown",
   "metadata": {},
   "source": [
    "#                                                     SNA Project\n",
    "\n",
    "\n",
    "#                GENERATING TRUST NETWORKS AND ANALYSING THEM\n",
    "\n",
    "\n",
    "# By, \n",
    "#        AVINASH V (01FB15ECS061)\n",
    "#        G MANASA (01FB15ECS099)\n",
    "#        G SAMEER (01FB15ECS101)"
   ]
  },
  {
   "cell_type": "markdown",
   "metadata": {},
   "source": [
    "We have used two datasets from the SNAP dataset\n",
    "\n",
    "# 1) Bitcoin OTC trust weighted signed network\n",
    "\n",
    "This is who-trusts-whom network of people who trade using Bitcoin on a platform called Bitcoin OTC. Since Bitcoin users are anonymous, there is a need to maintain a record of users' reputation to prevent transactions with fraudulent and risky users. Members of Bitcoin OTC rate other members in a scale of -10 (total distrust) to +10 (total trust) in steps of 1. This is the first explicit weighted signed directed network available for research.\n",
    "\n",
    "No. of nodes = 5,881\n",
    "No. of edges = 35,592\n",
    "Weights in the graph = -10 to +10\n",
    "\n",
    "# 2) Wikipedia Requests for Adminship (with text)\n",
    "\n",
    "For a Wikipedia editor to become an administrator, a request for adminship (RfA) must be submitted, either by the candidate or by another community member. Subsequently, any Wikipedia member may cast a supporting, neutral, or opposing vote. This induces a directed, signed network in which nodes represent Wikipedia members and edges represent votes.\n",
    "\n",
    "No. of nodes = 10,835\n",
    "No. of edges = 159,388\n",
    "Weights in the graph = 1,-1,0"
   ]
  },
  {
   "cell_type": "code",
   "execution_count": 2,
   "metadata": {
    "collapsed": true
   },
   "outputs": [],
   "source": [
    "# Importing the required packages\n",
    "import networkx as nx\n",
    "import matplotlib.pyplot as plt\n",
    "import numpy as np\n",
    "import random\n",
    "import pandas as pd\n",
    "import re"
   ]
  },
  {
   "cell_type": "markdown",
   "metadata": {},
   "source": [
    "# Data Preprocessing and visualisation -- bitcoin"
   ]
  },
  {
   "cell_type": "code",
   "execution_count": 24,
   "metadata": {},
   "outputs": [
    {
     "name": "stdout",
     "output_type": "stream",
     "text": [
      "       Source  Target  Rating        Time  weight\n",
      "0           6       2       4  1289241912       1\n",
      "1           6       5       2  1289241942       1\n",
      "2           1      15       1  1289243140       1\n",
      "3           4       3       7  1289245277       1\n",
      "4          13      16       8  1289254254       1\n",
      "5          13      10       8  1289254301       1\n",
      "6           7       5       1  1289362700       1\n",
      "7           2      21       5  1289370557       1\n",
      "8           2      20       5  1289370622       1\n",
      "9          21       2       5  1289380982       1\n",
      "10         21       1       8  1289441411       1\n",
      "11         21      10       8  1289441438       1\n",
      "12         21       8       9  1289441451       1\n",
      "13         21       3       7  1289441526       1\n",
      "14         17       3       5  1289442313       1\n",
      "15         17      23       1  1289489668       1\n",
      "16         10       1       8  1289555656       1\n",
      "17         10       6       7  1289555731       1\n",
      "18         10      21       8  1289555746       1\n",
      "19         10       8       1  1289555768       1\n",
      "20         10      25      10  1289555842       1\n",
      "21         10       2       7  1289555871       1\n",
      "22         10       3       7  1289555876       1\n",
      "23          4      26       1  1289641694       1\n",
      "24         26       4       1  1289641704       1\n",
      "25          5       1       3  1289660299       1\n",
      "26          5       6       3  1289660319       1\n",
      "27          5       7       1  1289660347       1\n",
      "28          1       5       4  1289710643       1\n",
      "29          6       4       2  1289770700       1\n",
      "...       ...     ...     ...         ...     ...\n",
      "37425    4532    1403       1  1420877700       1\n",
      "37426    4532    2934       1  1420878086       1\n",
      "37427      96    5825       1  1420905786       1\n",
      "37428    5825      96       1  1420906034       1\n",
      "37429    4316    3527       1  1420926295       1\n",
      "37430    4172    5852       1  1420985172       1\n",
      "37431    5852    4172       1  1420993952       1\n",
      "37432    5457    1316       2  1421007714       1\n",
      "37433    3722    5883       1  1421011157       1\n",
      "37434    5883    3864       1  1421012353       1\n",
      "37435    5883    3878       1  1421012670       1\n",
      "37436    5883    3722       1  1421012742       1\n",
      "37437    1316    5457       1  1421019484       1\n",
      "37438    3897    4518       5  1421035824       1\n",
      "37439    4518    3897       4  1421035855       1\n",
      "37440    3640    3828       1  1421094191       1\n",
      "37441    3722    5559       1  1421098418       1\n",
      "37442    3722    5884       1  1421100335       1\n",
      "37443     115    5884       1  1421100351       1\n",
      "37444    3707    5884       1  1421100484       1\n",
      "37445    1512    2822       1  1421111418       1\n",
      "37446    1512    3707       1  1421111437       1\n",
      "37447    1512    5525       1  1421111464       1\n",
      "37448    3707    4205       2  1421129786       1\n",
      "37449      35    5885       1  1421156223       1\n",
      "37450    5578    3707       1  1421174737       1\n",
      "37451    4532    5886       1  1421191636       1\n",
      "37452    5886    4532       1  1421192920       1\n",
      "37453    2392      96       1  1421214090       1\n",
      "37454      96    2392       1  1421230183       1\n",
      "\n",
      "[37455 rows x 5 columns]\n"
     ]
    }
   ],
   "source": [
    "df = pd.read_csv(\"soc-sign-bitcoinotc.csv\")\n",
    "\n",
    "# We will add a column to make this a signed network,\n",
    "# Let us assign 1 if Rating > 4\n",
    "#               0 otherwise\n",
    "df['weight'] = [0 if df.iloc[i]['Rating'] < 1 else 1 for i in range(len(df))]\n",
    "print(df)"
   ]
  },
  {
   "cell_type": "markdown",
   "metadata": {},
   "source": [
    "# Generating a GML graph from csv:"
   ]
  },
  {
   "cell_type": "code",
   "execution_count": 25,
   "metadata": {},
   "outputs": [
    {
     "data": {
      "image/png": "[encoded data removed]",
      "text/plain": [
       "<matplotlib.figure.Figure at 0x188cd44eda0>"
      ]
     },
     "metadata": {},
     "output_type": "display_data"
    }
   ],
   "source": [
    "# Forming the whole graph from the dataset\n",
    "nodes_full = list(set(df['Source']).union(set(df['Target'])))\n",
    "\n",
    "edges_full = [[df.iloc[i]['Source'],df.iloc[i]['Target'],df.iloc[i]['weight']] for i in range(len(df))]\n",
    "\n",
    "\n",
    "fp1 = open(\"bitcoin_full.gml\",'w')\n",
    "fp1.write(\"graph\\n[\\n  multigraph 1\\n\")\n",
    "for i in nodes_full:\n",
    "    fp1.write(\"  node\\n  [\\n    id \"+str(i)+\"\\n  ]\\n\")\n",
    "    \n",
    "for i in edges_full:\n",
    "    fp1.write(\"  edge\\n  [\\n    source \"+str(i[0]))\n",
    "    fp1.write(\"\\n    target \"+str(i[1]))\n",
    "    fp1.write(\"\\n    weight \"+str(i[2])+\"\\n  ]\\n\")\n",
    "fp1.write(\"\\n]\") \n",
    "fp1.close()\n",
    "\n",
    "G_orig_bitcoin = nx.read_gml(\"bitcoin_full.gml\",label='id')\n",
    "nx.draw_networkx(G_orig_bitcoin)\n",
    "plt.show()"
   ]
  },
  {
   "cell_type": "markdown",
   "metadata": {},
   "source": [
    "# Splitting into train and test data"
   ]
  },
  {
   "cell_type": "code",
   "execution_count": 26,
   "metadata": {},
   "outputs": [
    {
     "name": "stdout",
     "output_type": "stream",
     "text": [
      "0.6999866506474436\n",
      "       Source  Target  Rating        Time  weight\n",
      "0           6       2       4  1289241912       1\n",
      "1           6       5       2  1289241942       1\n",
      "2           1      15       1  1289243140       1\n",
      "3           4       3       7  1289245277       1\n",
      "4          13      16       8  1289254254       1\n",
      "5          13      10       8  1289254301       1\n",
      "6           7       5       1  1289362700       1\n",
      "7           2      21       5  1289370557       1\n",
      "8           2      20       5  1289370622       1\n",
      "9          21       2       5  1289380982       1\n",
      "10         21       1       8  1289441411       1\n",
      "11         21      10       8  1289441438       1\n",
      "12         21       8       9  1289441451       1\n",
      "13         21       3       7  1289441526       1\n",
      "14         17       3       5  1289442313       1\n",
      "15         17      23       1  1289489668       1\n",
      "16         10       1       8  1289555656       1\n",
      "17         10       6       7  1289555731       1\n",
      "18         10      21       8  1289555746       1\n",
      "19         10       8       1  1289555768       1\n",
      "20         10      25      10  1289555842       1\n",
      "21         10       2       7  1289555871       1\n",
      "22         10       3       7  1289555876       1\n",
      "23          4      26       1  1289641694       1\n",
      "24         26       4       1  1289641704       1\n",
      "25          5       1       3  1289660299       1\n",
      "26          5       6       3  1289660319       1\n",
      "27          5       7       1  1289660347       1\n",
      "28          1       5       4  1289710643       1\n",
      "29          6       4       2  1289770700       1\n",
      "...       ...     ...     ...         ...     ...\n",
      "26188    4659    4735     -10  1376413802       0\n",
      "26189    4659    1334      10  1376413841       1\n",
      "26190    4458    4659     -10  1376413933       0\n",
      "26191    4659    4732     -10  1376413935       0\n",
      "26192    4659    4736     -10  1376414067       0\n",
      "26193    4569    3649       1  1376414480       1\n",
      "26194    4688    4635     -10  1376414917       0\n",
      "26195    4686    4635     -10  1376414957       0\n",
      "26196    4682    4635     -10  1376415021       0\n",
      "26197    4683    4635     -10  1376415047       0\n",
      "26198    4458    4635      10  1376415405       1\n",
      "26199    3649    4459       1  1376415941       1\n",
      "26200    4459    3649       2  1376415942       1\n",
      "26201    2397    2424     -10  1376416720       0\n",
      "26202    4659    4569     -10  1376417100       0\n",
      "26203    4458    4737     -10  1376418315       0\n",
      "26204    3465    2388       3  1376419179       1\n",
      "26205    3649    4569       1  1376421287       1\n",
      "26206    2934    2725      -5  1376421611       0\n",
      "26207    3649    4604       1  1376422699       1\n",
      "26208    4320     905       1  1376424042       1\n",
      "26209     905    4320       1  1376424932       1\n",
      "26210    4421    4490     -10  1376425471       0\n",
      "26211     905    2958       1  1376426231       1\n",
      "26212    2958     905       1  1376426250       1\n",
      "26213    4610    4363       1  1376427736       1\n",
      "26214    4363    4610       1  1376428141       1\n",
      "26215    4458    4738       3  1376428450       1\n",
      "26216     905    3531       1  1376428949       1\n",
      "26217     905    2942       1  1376428965       1\n",
      "\n",
      "[26218 rows x 5 columns]\n"
     ]
    }
   ],
   "source": [
    "# To get the training data, we divide it according to time taking 70% as the training data\n",
    "# Split according to time and using 80% of it as training graph\n",
    "\n",
    "df_train = df[df['Time'] < df['Time'].quantile(0.7)]\n",
    "print(len(df_train)/len(df))\n",
    "print(df_train)"
   ]
  },
  {
   "cell_type": "markdown",
   "metadata": {},
   "source": [
    "# GML for training data"
   ]
  },
  {
   "cell_type": "code",
   "execution_count": 27,
   "metadata": {},
   "outputs": [
    {
     "data": {
      "image/png": "[encoded data removed]",
      "text/plain": [
       "<matplotlib.figure.Figure at 0x188d00fbdd8>"
      ]
     },
     "metadata": {},
     "output_type": "display_data"
    }
   ],
   "source": [
    "# To create the gml file from df_train:\n",
    "nodes_train = list(set(df_train['Source']).union(set(df_train['Target'])))\n",
    "\n",
    "edges_train = [[df_train.iloc[i]['Source'],df_train.iloc[i]['Target'],df_train.iloc[i]['weight']] for i in range(len(df_train))]\n",
    "\n",
    "fp1 = open(\"bitcoin_train.gml\",'w')\n",
    "fp1.write(\"graph\\n[\\n  multigraph 1\\n\")\n",
    "for i in nodes_train:\n",
    "    fp1.write(\"  node\\n  [\\n    id \"+str(i)+\"\\n  ]\\n\")\n",
    "    \n",
    "for i in edges_train:\n",
    "    fp1.write(\"  edge\\n  [\\n    source \"+str(i[0]))\n",
    "    fp1.write(\"\\n    target \"+str(i[1]))\n",
    "    fp1.write(\"\\n    weight \"+str(i[2])+\"\\n  ]\\n\")\n",
    "fp1.write(\"\\n]\") \n",
    "fp1.close()\n",
    "\n",
    "G_train_bitcoin = nx.read_gml(\"bitcoin_train.gml\",label='id')\n",
    "nx.draw_networkx(G_train_bitcoin)\n",
    "plt.show()"
   ]
  },
  {
   "cell_type": "markdown",
   "metadata": {},
   "source": [
    "# The algorithm developed:\n",
    "\n",
    "\n",
    "\n",
    "# Intution behind the algo:\n",
    "\n",
    "    1) When a user i joins the network, he begins interacting with other users randomly. \n",
    "    \n",
    "    2) If user i's interaction with user j is positive, \n",
    "                then over time i discovers the users that j knows. \n",
    "                \n",
    "    3) Now, if i trusts j then i will trust anyone that j trusts.\n",
    "    \n",
    "    4) However,he won’t automatically start distrusting everyone that j distrusts \n",
    "        but the likelihood that i will trust user k will go down if j distrusts k. \n",
    "        \n",
    "    5) On the other hand, if i does not think highly of j,\n",
    "                then he will automatically form negative edges with everyone that j distrusts.\n",
    "                \n",
    "# The algorithm:\n",
    "\n",
    "\n",
    "for i = 1 to n do\n",
    "    Pick a node j uniformly at random from {1,2....i-1}\n",
    "    Create edge (i; j)\n",
    "    Label the edge + with prob. p, and – with prob. (1 - p)\n",
    "    for all neighbors k of j do\n",
    "        if (i; j) is + then\n",
    "            Create edge (i; k) with prob. rp.\n",
    "            if (j; k) is + then\n",
    "                Label edge (i; k) +.\n",
    "            else\n",
    "                Label edge (i; k) + or – with prob. 1/2.\n",
    "            end if\n",
    "        else\n",
    "            if (j; k) is – then\n",
    "                Create edge (i; k) with prob. rn.\n",
    "                Label edge (i; k) –.\n",
    "            end if\n",
    "        end if\n",
    "    end for\n",
    "end for\n"
   ]
  },
  {
   "cell_type": "markdown",
   "metadata": {},
   "source": [
    "# Defining p"
   ]
  },
  {
   "cell_type": "code",
   "execution_count": 28,
   "metadata": {},
   "outputs": [
    {
     "name": "stdout",
     "output_type": "stream",
     "text": [
      "weight\n",
      "0     1911\n",
      "1    24307\n",
      "dtype: int64\n",
      "probability of positive edges =  0.927111145015\n"
     ]
    }
   ],
   "source": [
    "nodes = nx.nodes(G_train_bitcoin)\n",
    "edges = nx.edges(G_train_bitcoin)\n",
    "\n",
    "\n",
    "# To select with probability 'p'\n",
    "# 'p' is the prob of +ve edges\n",
    "a = df_train.groupby('weight').size()\n",
    "\n",
    "#print(type(a))\n",
    "print(a)\n",
    "#print(a[1])\n",
    "\n",
    "p = a[1]/(a[0]+a[1])\n",
    "print('probability of positive edges = ',p)"
   ]
  },
  {
   "cell_type": "markdown",
   "metadata": {},
   "source": [
    "# Defining rp and rn"
   ]
  },
  {
   "cell_type": "code",
   "execution_count": 29,
   "metadata": {},
   "outputs": [
    {
     "name": "stdout",
     "output_type": "stream",
     "text": [
      "4596\n",
      "26218\n",
      "4596\n"
     ]
    }
   ],
   "source": [
    "edge_weights_for_new = list(np.random.choice([0, 1], size=len(nodes), p=[0.11,0.89]))\n",
    "\n",
    "#rp is fraction of neighbours of j, that i discovers given that (i,j) is + . \n",
    "#rn is the fraction of neighbours of j, that i discovers given that (i,j) is - .\n",
    "rp = 0.75\n",
    "rn = 0.23\n",
    "#len(edge_weights_for_new)\n",
    "print(len(nx.nodes(G_train_bitcoin)))\n",
    "print(len(nx.edges(G_train_bitcoin)))\n",
    "print(len(edge_weights_for_new))"
   ]
  },
  {
   "cell_type": "markdown",
   "metadata": {},
   "source": [
    "# Algo implementation"
   ]
  },
  {
   "cell_type": "code",
   "execution_count": 31,
   "metadata": {
    "collapsed": true
   },
   "outputs": [],
   "source": [
    "import random\n",
    "for i in range(3,len(nodes)):\n",
    "    #Pick a node j uniformly at random from {1....i-1}\n",
    "    j = random.randrange(1,i-1)\n",
    "    #Create edge (i; j)\n",
    "    G_train_bitcoin.add_edge(i,j)\n",
    "    #Label the edge + with prob. p, and – with prob. (1-p)\n",
    "    index_for_new_weight = random.randint(0,len(edge_weights_for_new)-1)\n",
    "\n",
    "    if(edge_weights_for_new[index_for_new_weight] == 1):\n",
    "        G_train_bitcoin[i][j][0]['weight'] = 1\n",
    "    else:\n",
    "        G_train_bitcoin[i][j][0]['weight'] = 0\n",
    "        \n",
    "    neighb_j = G_train_bitcoin.neighbors(j)\n",
    "    edges_rp = list(np.random.choice([0, 1], size=len(list(neighb_j)), p=[1-rp,rp]))\n",
    "    edges_rn = list(np.random.choice([0, 1], size=len(list(neighb_j)), p=[1-rn,rn]))\n",
    "    list_prob_equal = [0,1]\n",
    "    \n",
    "    #for all neighbors k of j do\n",
    "    for k in neighb_j:\n",
    "        # If (i,j) is +ve\n",
    "        if(edge_weights_for_new[index_for_new_weight] == 1):\n",
    "            # Create edge (i; k) with prob. rp.\n",
    "            create_ik_or_not = random.randint(0,len(list(neighb_j)))\n",
    "            if(edges_rp[create_ik_or_not] == 1):\n",
    "                G_train_bitcoin.add_edge(i,k)\n",
    "            # If (j,k) is +ve\n",
    "            if(G_train_bitcoin[j][k] == 1):\n",
    "                # label edge (i,k) as +ve\n",
    "                G_train_bitcoin[i][k][0]['weight'] = 1\n",
    "            else:\n",
    "                # Label edge (i; k) + or – with prob. 1/2.\n",
    "                index_ik = random.randint(0,len(list_prob_equal))\n",
    "                if(list_prob_equal[index_ik] == 1):\n",
    "                    G_train_bitcoin[i][k][0]['weight'] = 1\n",
    "                else:\n",
    "                    G_train_bitcoin[i][k][0]['weight'] = 0\n",
    "                \n",
    "                \n",
    "        # If (i,j) is -ve\n",
    "        else:\n",
    "            # Create edge (i; k) with prob. rn.\n",
    "            create_ik_or_not = random.randint(0,len(list(neighb_j)))\n",
    "            if(edges_rp[create_ik_or_not] == 1):\n",
    "                G_train_bitcoin.add_edge(i,k)\n",
    "            # label (i,k) -ve\n",
    "            G_train_bitcoin[i][k][0]['weight'] = 0\n",
    "      "
   ]
  },
  {
   "cell_type": "code",
   "execution_count": 32,
   "metadata": {
    "collapsed": true
   },
   "outputs": [],
   "source": [
    "G_predicted = G_train_bitcoin"
   ]
  },
  {
   "cell_type": "markdown",
   "metadata": {},
   "source": [
    "# Getting triadic statistics for checking accuracy"
   ]
  },
  {
   "cell_type": "markdown",
   "metadata": {},
   "source": [
    "# Counts of diff types of triads in predicted graph"
   ]
  },
  {
   "cell_type": "code",
   "execution_count": 33,
   "metadata": {},
   "outputs": [
    {
     "name": "stdout",
     "output_type": "stream",
     "text": [
      "The sum of each type of triads:\n"
     ]
    },
    {
     "data": {
      "text/plain": [
       "{'003': 17487869388,\n",
       " '012': 0,\n",
       " '021C': 0,\n",
       " '021D': 0,\n",
       " '021U': 0,\n",
       " '030C': 0,\n",
       " '030T': 0,\n",
       " '102': 114786628,\n",
       " '111D': 0,\n",
       " '111U': 0,\n",
       " '120C': 0,\n",
       " '120D': 0,\n",
       " '120U': 0,\n",
       " '201': 1090022,\n",
       " '210': 0,\n",
       " '300': 17938}"
      ]
     },
     "execution_count": 33,
     "metadata": {},
     "output_type": "execute_result"
    }
   ],
   "source": [
    "# To compare how the algo performed, we will compare the triadic statistics as follows\n",
    "G_predicted=nx.to_directed(G_predicted)\n",
    "triads_t = nx.triadic_census(G_predicted)\n",
    "\n",
    "#no of triads\n",
    "print(\"The sum of each type of triads:\")\n",
    "triads_t"
   ]
  },
  {
   "cell_type": "markdown",
   "metadata": {},
   "source": [
    "# Ratios of diff types of triads for predicted graph"
   ]
  },
  {
   "cell_type": "code",
   "execution_count": 34,
   "metadata": {},
   "outputs": [
    {
     "name": "stdout",
     "output_type": "stream",
     "text": [
      "The ratios of each type of traids:\n"
     ]
    },
    {
     "data": {
      "text/plain": [
       "[('003', 0.9934164881920705),\n",
       " ('012', 0.0),\n",
       " ('102', 0.006520572995439711),\n",
       " ('021D', 0.0),\n",
       " ('021U', 0.0),\n",
       " ('021C', 0.0),\n",
       " ('111D', 0.0),\n",
       " ('111U', 0.0),\n",
       " ('030T', 0.0),\n",
       " ('030C', 0.0),\n",
       " ('201', 6.191982586713136e-05),\n",
       " ('120D', 0.0),\n",
       " ('120U', 0.0),\n",
       " ('120C', 0.0),\n",
       " ('210', 0.0),\n",
       " ('300', 1.0189866226595448e-06)]"
      ]
     },
     "execution_count": 34,
     "metadata": {},
     "output_type": "execute_result"
    }
   ],
   "source": [
    "ratios_of_triads_t = []\n",
    "sum_triads_t = sum(triads_t.values()) \n",
    "\n",
    "for i in triads_t.keys():\n",
    "    ratios_of_triads_t.append((i,(triads_t[i]/sum_triads_t)))\n",
    "    \n",
    "print(\"The ratios of each type of traids:\")\n",
    "ratios_of_triads_t"
   ]
  },
  {
   "cell_type": "markdown",
   "metadata": {},
   "source": [
    "# Counts of diff types of triads in original graph"
   ]
  },
  {
   "cell_type": "code",
   "execution_count": 35,
   "metadata": {},
   "outputs": [
    {
     "name": "stdout",
     "output_type": "stream",
     "text": [
      "The sum of each type of triads:\n"
     ]
    },
    {
     "data": {
      "text/plain": [
       "{'003': 33758216573,\n",
       " '012': 0,\n",
       " '021C': 0,\n",
       " '021D': 0,\n",
       " '021U': 0,\n",
       " '030C': 0,\n",
       " '030T': 0,\n",
       " '102': 123065040,\n",
       " '111D': 0,\n",
       " '111U': 0,\n",
       " '120C': 0,\n",
       " '120D': 0,\n",
       " '120U': 0,\n",
       " '201': 1595914,\n",
       " '210': 0,\n",
       " '300': 33493}"
      ]
     },
     "execution_count": 35,
     "metadata": {},
     "output_type": "execute_result"
    }
   ],
   "source": [
    "# Lets get the same statistics for the original graph to see how the algo performed\n",
    "\n",
    "G_orig=nx.to_directed(G_orig_bitcoin)\n",
    "triads_f = nx.triadic_census(G_orig)\n",
    "\n",
    "#no of triads\n",
    "print(\"The sum of each type of triads:\")\n",
    "triads_f"
   ]
  },
  {
   "cell_type": "markdown",
   "metadata": {},
   "source": [
    "# Ratios of diff types of triads in original graph"
   ]
  },
  {
   "cell_type": "code",
   "execution_count": 36,
   "metadata": {},
   "outputs": [
    {
     "name": "stdout",
     "output_type": "stream",
     "text": [
      "The ratios of each type of traids:\n"
     ]
    },
    {
     "data": {
      "text/plain": [
       "[('003', 0.9963198425623349),\n",
       " ('012', 0.0),\n",
       " ('102', 0.003632068092595664),\n",
       " ('021D', 0.0),\n",
       " ('021U', 0.0),\n",
       " ('021C', 0.0),\n",
       " ('111D', 0.0),\n",
       " ('111U', 0.0),\n",
       " ('030T', 0.0),\n",
       " ('030C', 0.0),\n",
       " ('201', 4.7100852670479904e-05),\n",
       " ('120D', 0.0),\n",
       " ('120U', 0.0),\n",
       " ('120C', 0.0),\n",
       " ('210', 0.0),\n",
       " ('300', 9.884923990217414e-07)]"
      ]
     },
     "execution_count": 36,
     "metadata": {},
     "output_type": "execute_result"
    }
   ],
   "source": [
    "ratios_of_triads_f = []\n",
    "sum_triads_f = sum(triads_f.values()) \n",
    "\n",
    "for i in triads_f.keys():\n",
    "    ratios_of_triads_f.append((i,(triads_f[i]/sum_triads_f)))\n",
    "    \n",
    "print(\"The ratios of each type of traids:\")\n",
    "ratios_of_triads_f"
   ]
  },
  {
   "cell_type": "markdown",
   "metadata": {},
   "source": [
    "# Getting RMSE and r2_score to measure accuracy"
   ]
  },
  {
   "cell_type": "code",
   "execution_count": 37,
   "metadata": {},
   "outputs": [
    {
     "name": "stdout",
     "output_type": "stream",
     "text": [
      "RMSE =  0.0010238758096072877\n",
      "r2 =  0.999981967585\n"
     ]
    }
   ],
   "source": [
    "# To quantify the performance of the algo, let's define \"Accuracy\" wrt to the ratios of triads as :\n",
    "y_actual = []\n",
    "y_predicted = []\n",
    "\n",
    "for i in range(len(ratios_of_triads_f)):\n",
    "    y_actual.append(ratios_of_triads_f[i][1])\n",
    "    y_predicted.append(ratios_of_triads_t[i][1])\n",
    "\n",
    "from sklearn.metrics import mean_squared_error\n",
    "from sklearn.metrics import r2_score\n",
    "from math import sqrt\n",
    "\n",
    "rms = sqrt(mean_squared_error(y_actual, y_predicted))\n",
    "print('RMSE = ',rms)\n",
    "\n",
    "r2 = r2_score(y_actual, y_predicted)\n",
    "print('r2 = ',r2)   "
   ]
  },
  {
   "cell_type": "markdown",
   "metadata": {},
   "source": [
    "# Visualisation on both the generated and original graphs"
   ]
  },
  {
   "cell_type": "markdown",
   "metadata": {},
   "source": [
    "# Centrality plots for predicted graph"
   ]
  },
  {
   "cell_type": "code",
   "execution_count": 38,
   "metadata": {},
   "outputs": [
    {
     "ename": "NetworkXNotImplemented",
     "evalue": "not implemented for multigraph type",
     "output_type": "error",
     "traceback": [
      "\u001b[1;31m---------------------------------------------------------------------------\u001b[0m",
      "\u001b[1;31mNetworkXNotImplemented\u001b[0m                    Traceback (most recent call last)",
      "\u001b[1;32m<ipython-input-38-b54fee4dbdcf>\u001b[0m in \u001b[0;36m<module>\u001b[1;34m()\u001b[0m\n\u001b[0;32m      7\u001b[0m \u001b[0mbet\u001b[0m \u001b[1;33m=\u001b[0m \u001b[0mnx\u001b[0m\u001b[1;33m.\u001b[0m\u001b[0mbetweenness_centrality\u001b[0m\u001b[1;33m(\u001b[0m\u001b[0mG_predicted\u001b[0m\u001b[1;33m)\u001b[0m\u001b[1;33m\u001b[0m\u001b[0m\n\u001b[0;32m      8\u001b[0m \u001b[0mclos\u001b[0m \u001b[1;33m=\u001b[0m \u001b[0mnx\u001b[0m\u001b[1;33m.\u001b[0m\u001b[0mcloseness_centrality\u001b[0m\u001b[1;33m(\u001b[0m\u001b[0mG_predicted\u001b[0m\u001b[1;33m)\u001b[0m\u001b[1;33m\u001b[0m\u001b[0m\n\u001b[1;32m----> 9\u001b[1;33m \u001b[0meig\u001b[0m \u001b[1;33m=\u001b[0m \u001b[0mnx\u001b[0m\u001b[1;33m.\u001b[0m\u001b[0meigenvector_centrality\u001b[0m\u001b[1;33m(\u001b[0m\u001b[0mG_predicted\u001b[0m\u001b[1;33m)\u001b[0m\u001b[1;33m\u001b[0m\u001b[0m\n\u001b[0m\u001b[0;32m     10\u001b[0m \u001b[1;33m\u001b[0m\u001b[0m\n\u001b[0;32m     11\u001b[0m centrality_measures = {\n",
      "\u001b[1;32m<decorator-gen-198>\u001b[0m in \u001b[0;36meigenvector_centrality\u001b[1;34m(G, max_iter, tol, nstart, weight)\u001b[0m\n",
      "\u001b[1;32mC:\\Users\\AVINASH\\Anaconda3\\lib\\site-packages\\networkx\\utils\\decorators.py\u001b[0m in \u001b[0;36m_not_implemented_for\u001b[1;34m(not_implement_for_func, *args, **kwargs)\u001b[0m\n\u001b[0;32m     69\u001b[0m         \u001b[1;32mif\u001b[0m \u001b[0mmatch\u001b[0m\u001b[1;33m:\u001b[0m\u001b[1;33m\u001b[0m\u001b[0m\n\u001b[0;32m     70\u001b[0m             \u001b[0mmsg\u001b[0m \u001b[1;33m=\u001b[0m \u001b[1;34m'not implemented for %s type'\u001b[0m \u001b[1;33m%\u001b[0m \u001b[1;34m' '\u001b[0m\u001b[1;33m.\u001b[0m\u001b[0mjoin\u001b[0m\u001b[1;33m(\u001b[0m\u001b[0mgraph_types\u001b[0m\u001b[1;33m)\u001b[0m\u001b[1;33m\u001b[0m\u001b[0m\n\u001b[1;32m---> 71\u001b[1;33m             \u001b[1;32mraise\u001b[0m \u001b[0mnx\u001b[0m\u001b[1;33m.\u001b[0m\u001b[0mNetworkXNotImplemented\u001b[0m\u001b[1;33m(\u001b[0m\u001b[0mmsg\u001b[0m\u001b[1;33m)\u001b[0m\u001b[1;33m\u001b[0m\u001b[0m\n\u001b[0m\u001b[0;32m     72\u001b[0m         \u001b[1;32melse\u001b[0m\u001b[1;33m:\u001b[0m\u001b[1;33m\u001b[0m\u001b[0m\n\u001b[0;32m     73\u001b[0m             \u001b[1;32mreturn\u001b[0m \u001b[0mnot_implement_for_func\u001b[0m\u001b[1;33m(\u001b[0m\u001b[1;33m*\u001b[0m\u001b[0margs\u001b[0m\u001b[1;33m,\u001b[0m \u001b[1;33m**\u001b[0m\u001b[0mkwargs\u001b[0m\u001b[1;33m)\u001b[0m\u001b[1;33m\u001b[0m\u001b[0m\n",
      "\u001b[1;31mNetworkXNotImplemented\u001b[0m: not implemented for multigraph type"
     ]
    }
   ],
   "source": [
    "#all plots for generated graph\n",
    "import pandas as pd\n",
    "import seaborn as sns\n",
    "sns.set(style=\"ticks\", color_codes=True)\n",
    "\n",
    "degc = nx.degree_centrality(G_predicted)\n",
    "bet = nx.betweenness_centrality(G_predicted)\n",
    "clos = nx.closeness_centrality(G_predicted)\n",
    "eig = nx.eigenvector_centrality(G_predicted)\n",
    "\n",
    "centrality_measures = {\n",
    "'degree': degc,\n",
    "'betweenness': bet,\n",
    "'closeness': clos,\n",
    "'eigenvector': eig,\n",
    "}\n",
    "centrality = pd.DataFrame(centrality_measures)\n",
    "centrality\n",
    "sns.pairplot(centrality)\n",
    "plt.show()"
   ]
  },
  {
   "cell_type": "markdown",
   "metadata": {},
   "source": [
    "# Centrality plots for original graph"
   ]
  },
  {
   "cell_type": "code",
   "execution_count": null,
   "metadata": {
    "collapsed": true
   },
   "outputs": [],
   "source": [
    "#all plots for original graph\n",
    "import pandas as pd\n",
    "import seaborn as sns\n",
    "sns.set(style=\"ticks\", color_codes=True)\n",
    "\n",
    "degc = nx.degree_centrality(G_orig)\n",
    "bet = nx.betweenness_centrality(G_orig)\n",
    "clos = nx.closeness_centrality(G_orig)\n",
    "eig = nx.eigenvector_centrality(G_orig)\n",
    "\n",
    "centrality_measures = {\n",
    "'degree': degc,\n",
    "'betweenness': bet,\n",
    "'closeness': clos,\n",
    "'eigenvector': eig,\n",
    "}\n",
    "centrality = pd.DataFrame(centrality_measures)\n",
    "centrality\n",
    "sns.pairplot(centrality)\n",
    "plt.show()"
   ]
  },
  {
   "cell_type": "markdown",
   "metadata": {},
   "source": [
    "# Degree distributuion histogram for predicted graph"
   ]
  },
  {
   "cell_type": "code",
   "execution_count": 1,
   "metadata": {},
   "outputs": [
    {
     "ename": "NameError",
     "evalue": "name 'G_predicted' is not defined",
     "output_type": "error",
     "traceback": [
      "\u001b[1;31m---------------------------------------------------------------------------\u001b[0m",
      "\u001b[1;31mNameError\u001b[0m                                 Traceback (most recent call last)",
      "\u001b[1;32m<ipython-input-1-2c037698b0e8>\u001b[0m in \u001b[0;36m<module>\u001b[1;34m()\u001b[0m\n\u001b[0;32m      1\u001b[0m \u001b[1;32mimport\u001b[0m \u001b[0mcollections\u001b[0m\u001b[1;33m\u001b[0m\u001b[0m\n\u001b[0;32m      2\u001b[0m \u001b[1;33m\u001b[0m\u001b[0m\n\u001b[1;32m----> 3\u001b[1;33m \u001b[0mdegree_sequence\u001b[0m \u001b[1;33m=\u001b[0m \u001b[0msorted\u001b[0m\u001b[1;33m(\u001b[0m\u001b[1;33m[\u001b[0m\u001b[0md\u001b[0m \u001b[1;32mfor\u001b[0m \u001b[0mn\u001b[0m\u001b[1;33m,\u001b[0m \u001b[0md\u001b[0m \u001b[1;32min\u001b[0m \u001b[0mG_predicted\u001b[0m\u001b[1;33m.\u001b[0m\u001b[0mdegree\u001b[0m\u001b[1;33m(\u001b[0m\u001b[1;33m)\u001b[0m\u001b[1;33m]\u001b[0m\u001b[1;33m,\u001b[0m \u001b[0mreverse\u001b[0m\u001b[1;33m=\u001b[0m\u001b[1;32mTrue\u001b[0m\u001b[1;33m)\u001b[0m  \u001b[1;31m# degree sequence\u001b[0m\u001b[1;33m\u001b[0m\u001b[0m\n\u001b[0m\u001b[0;32m      4\u001b[0m \u001b[1;31m# print \"Degree sequence\", degree_sequence\u001b[0m\u001b[1;33m\u001b[0m\u001b[1;33m\u001b[0m\u001b[0m\n\u001b[0;32m      5\u001b[0m \u001b[0mdegreeCount\u001b[0m \u001b[1;33m=\u001b[0m \u001b[0mcollections\u001b[0m\u001b[1;33m.\u001b[0m\u001b[0mCounter\u001b[0m\u001b[1;33m(\u001b[0m\u001b[0mdegree_sequence\u001b[0m\u001b[1;33m)\u001b[0m\u001b[1;33m\u001b[0m\u001b[0m\n",
      "\u001b[1;31mNameError\u001b[0m: name 'G_predicted' is not defined"
     ]
    }
   ],
   "source": [
    "import collections\n",
    "\n",
    "degree_sequence = sorted([d for n, d in G_predicted.degree()], reverse=True)  # degree sequence\n",
    "# print \"Degree sequence\", degree_sequence\n",
    "degreeCount = collections.Counter(degree_sequence)\n",
    "deg, cnt = zip(*degreeCount.items())\n",
    "\n",
    "fig, ax = plt.subplots()\n",
    "plt.bar(deg, cnt, width=0.80, color='b')\n",
    "\n",
    "plt.title(\"Degree Distribution Histogram\")\n",
    "plt.ylabel(\"Count\")\n",
    "plt.xlabel(\"Degree\")\n",
    "ax.set_xticks([d + 0.4 for d in deg])\n",
    "ax.set_xticklabels(deg)\n",
    "\n",
    "# draw graph in inset\n",
    "plt.axes([1, 1, 1.2, 1.2])\n",
    "Gcc = sorted(nx.connected_component_subgraphs(G_predicted), key=len, reverse=True)[0]\n",
    "pos = nx.spring_layout(G_predicted)\n",
    "plt.axis('off')\n",
    "nx.draw_networkx_nodes(G_predicted, pos, node_size=20)\n",
    "nx.draw_networkx_edges(G_predicted, pos, alpha=0.4)\n",
    "\n",
    "plt.show()"
   ]
  },
  {
   "cell_type": "markdown",
   "metadata": {},
   "source": [
    "# Degree distributuion histogram for original graph"
   ]
  },
  {
   "cell_type": "code",
   "execution_count": null,
   "metadata": {
    "collapsed": true
   },
   "outputs": [],
   "source": [
    "import collections\n",
    "\n",
    "degree_sequence = sorted([d for n, d in G_orig.degree()], reverse=True)  # degree sequence\n",
    "# print \"Degree sequence\", degree_sequence\n",
    "degreeCount = collections.Counter(degree_sequence)\n",
    "deg, cnt = zip(*degreeCount.items())\n",
    "\n",
    "fig, ax = plt.subplots()\n",
    "plt.bar(deg, cnt, width=0.80, color='b')\n",
    "\n",
    "plt.title(\"Degree Distribution Histogram\")\n",
    "plt.ylabel(\"Count\")\n",
    "plt.xlabel(\"Degree\")\n",
    "ax.set_xticks([d + 0.4 for d in deg])\n",
    "ax.set_xticklabels(deg)\n",
    "\n",
    "# draw graph in inset\n",
    "plt.axes([1, 1, 1.2, 1.2])\n",
    "Gcc = sorted(nx.connected_component_subgraphs(G_orig), key=len, reverse=True)[0]\n",
    "pos = nx.spring_layout(G_orig)\n",
    "plt.axis('off')\n",
    "nx.draw_networkx_nodes(G_orig, pos, node_size=20)\n",
    "nx.draw_networkx_edges(G_orig, pos, alpha=0.4)\n",
    "\n",
    "plt.show()"
   ]
  },
  {
   "cell_type": "markdown",
   "metadata": {},
   "source": [
    "# Log-log plot for predicted graph"
   ]
  },
  {
   "cell_type": "code",
   "execution_count": 42,
   "metadata": {},
   "outputs": [
    {
     "data": {
      "image/png": "[encoded data removed]",
      "text/plain": [
       "<matplotlib.figure.Figure at 0x188c99bca58>"
      ]
     },
     "metadata": {},
     "output_type": "display_data"
    }
   ],
   "source": [
    "import collections\n",
    "\n",
    "degree_sequence = sorted([d for n, d in G_predicted.degree()], reverse=True)  # degree sequence\n",
    "\n",
    "plt.loglog(degree_sequence,'b-',marker='o')\n",
    "plt.title(\"log-log plot\")\n",
    "plt.ylabel(\"Degree\")\n",
    "plt.xlabel(\"rank\")\n",
    "ax.set_xticks([d + 0.4 for d in deg])\n",
    "ax.set_xticklabels(deg)\n",
    "plt.savefig(\"log-log-predicted.png\")\n",
    "plt.show()"
   ]
  },
  {
   "cell_type": "markdown",
   "metadata": {},
   "source": [
    "# Log-log plot for original graph"
   ]
  },
  {
   "cell_type": "code",
   "execution_count": 43,
   "metadata": {},
   "outputs": [
    {
     "data": {
      "image/png": "[encoded data removed]",
      "text/plain": [
       "<matplotlib.figure.Figure at 0x188c9920a58>"
      ]
     },
     "metadata": {},
     "output_type": "display_data"
    }
   ],
   "source": [
    "import collections\n",
    "\n",
    "degree_sequence = sorted([d for n, d in G_orig.degree()], reverse=True)  # degree sequence\n",
    "\n",
    "plt.loglog(degree_sequence,'b-',marker='o')\n",
    "plt.title(\"log-log plot\")\n",
    "plt.ylabel(\"Degree\")\n",
    "plt.xlabel(\"rank\")\n",
    "ax.set_xticks([d + 0.4 for d in deg])\n",
    "ax.set_xticklabels(deg)\n",
    "plt.savefig(\"log-log-original.png\")\n",
    "plt.show()"
   ]
  },
  {
   "cell_type": "markdown",
   "metadata": {},
   "source": [
    "# degree rank plot for predicted graph"
   ]
  },
  {
   "cell_type": "code",
   "execution_count": 44,
   "metadata": {},
   "outputs": [
    {
     "data": {
      "image/png": "[encoded data removed]",
      "text/plain": [
       "<matplotlib.figure.Figure at 0x188c9ef1a90>"
      ]
     },
     "metadata": {},
     "output_type": "display_data"
    }
   ],
   "source": [
    "degree_sequence = sorted([d for n, d in G_predicted.degree()], reverse=True) \n",
    "dmax=max(degree_sequence)\n",
    "\n",
    "plt.loglog(degree_sequence,'b-',marker='o')\n",
    "plt.title(\"Degree rank plot\")\n",
    "plt.ylabel(\"degree\")\n",
    "plt.xlabel(\"rank\")\n",
    "plt.savefig(\"degree_rank_predicted.png\")\n",
    "plt.show()"
   ]
  },
  {
   "cell_type": "markdown",
   "metadata": {},
   "source": [
    "# degree rank plot for original graph"
   ]
  },
  {
   "cell_type": "code",
   "execution_count": 45,
   "metadata": {},
   "outputs": [
    {
     "data": {
      "image/png": "[encoded data removed]",
      "text/plain": [
       "<matplotlib.figure.Figure at 0x188d04eef28>"
      ]
     },
     "metadata": {},
     "output_type": "display_data"
    }
   ],
   "source": [
    "degree_sequence = sorted([d for n, d in G_orig.degree()], reverse=True) \n",
    "dmax=max(degree_sequence)\n",
    "\n",
    "plt.loglog(degree_sequence,'b-',marker='o')\n",
    "plt.title(\"Degree rank plot\")\n",
    "plt.ylabel(\"degree\")\n",
    "plt.xlabel(\"rank\")\n",
    "plt.savefig(\"degree_rank_original.png\")\n",
    "plt.show()"
   ]
  },
  {
   "cell_type": "markdown",
   "metadata": {},
   "source": [
    "# Plots wrt accuracy"
   ]
  },
  {
   "cell_type": "code",
   "execution_count": 46,
   "metadata": {},
   "outputs": [
    {
     "name": "stdout",
     "output_type": "stream",
     "text": [
      "[0.9963198425623349, 0.003632068092595664, 4.7100852670479904e-05, 9.884923990217414e-07] ['003', '102', '201', '300']\n",
      "[0.9934164881920705, 0.006520572995439711, 6.191982586713136e-05, 1.0189866226595448e-06] ['003', '102', '201', '300']\n"
     ]
    }
   ],
   "source": [
    "# Getting all the labels\n",
    "actual_f = []\n",
    "actual_f_labels = []\n",
    "predicted_f = []\n",
    "predicted_f_labels = []\n",
    "for i in ratios_of_triads_f:\n",
    "    if i[1] != 0.0:\n",
    "        actual_f.append(i[1])\n",
    "        actual_f_labels.append(i[0])\n",
    "for i in ratios_of_triads_t:\n",
    "    if i[1] != 0.0:\n",
    "        predicted_f.append(i[1])\n",
    "        predicted_f_labels.append(i[0])\n",
    "print(actual_f , actual_f_labels)\n",
    "print(predicted_f , predicted_f_labels)"
   ]
  },
  {
   "cell_type": "markdown",
   "metadata": {},
   "source": [
    "# Scores by ratio of triads and type"
   ]
  },
  {
   "cell_type": "code",
   "execution_count": 47,
   "metadata": {},
   "outputs": [
    {
     "data": {
      "image/png": "[encoded data removed]",
      "text/plain": [
       "<matplotlib.figure.Figure at 0x188c9f93278>"
      ]
     },
     "metadata": {},
     "output_type": "display_data"
    }
   ],
   "source": [
    "import numpy as np\n",
    "import matplotlib.pyplot as plt\n",
    "from matplotlib.ticker import MaxNLocator\n",
    "from collections import namedtuple\n",
    "\n",
    "\n",
    "n_groups = 4\n",
    "\n",
    "fig, ax = plt.subplots()\n",
    "\n",
    "index = np.arange(n_groups)\n",
    "bar_width = 0.35\n",
    "\n",
    "opacity = 0.4\n",
    "error_config = {'ecolor': '0.3'}\n",
    "\n",
    "rects1 = ax.bar(index, predicted_f, bar_width,\n",
    "                alpha=opacity, color='b',\n",
    "                label='generated')\n",
    "\n",
    "rects2 = ax.bar(index + bar_width, actual_f, bar_width,\n",
    "                alpha=opacity, color='r',\n",
    "                label='actual')\n",
    "\n",
    "ax.set_xlabel('Group')\n",
    "ax.set_ylabel('Scores')\n",
    "ax.set_title('Scores by ratio of triads and type')\n",
    "ax.set_xticks(index + bar_width / 2)\n",
    "ax.set_xticklabels(actual_f_labels)\n",
    "ax.legend()\n",
    "\n",
    "fig.tight_layout()\n",
    "plt.show()"
   ]
  },
  {
   "cell_type": "markdown",
   "metadata": {},
   "source": [
    "# log(no of triads)"
   ]
  },
  {
   "cell_type": "code",
   "execution_count": 48,
   "metadata": {},
   "outputs": [
    {
     "name": "stdout",
     "output_type": "stream",
     "text": [
      "[24.242489678649644, 18.628223554069358, 14.28295717082828, 10.419091740755093] ['003', '102', '201', '300']\n",
      "[23.584773299688475, 18.558585554229083, 13.901708437487882, 9.794676646677948] ['003', '102', '201', '300']\n"
     ]
    }
   ],
   "source": [
    "#log scores are plotted for each type of triads\n",
    "import math\n",
    "actual_scores_f = []\n",
    "actual_scores_f_labels = []\n",
    "predicted_scores_f = []\n",
    "predicted_scores_f_labels = []\n",
    "for k,v in triads_f.items():\n",
    "    if triads_f[k] != 0:\n",
    "        actual_scores_f.append(math.log(v))\n",
    "        actual_scores_f_labels.append(k)\n",
    "for k,v in triads_t.items():\n",
    "    if triads_t[k] != 0:\n",
    "        predicted_scores_f.append(math.log(v))\n",
    "        predicted_scores_f_labels.append(k)\n",
    "print(actual_scores_f , actual_scores_f_labels)\n",
    "print(predicted_scores_f , predicted_scores_f_labels)"
   ]
  },
  {
   "cell_type": "markdown",
   "metadata": {},
   "source": [
    "# Scores by triad type and no of triads"
   ]
  },
  {
   "cell_type": "code",
   "execution_count": 49,
   "metadata": {},
   "outputs": [
    {
     "data": {
      "image/png": "[encoded data removed]",
      "text/plain": [
       "<matplotlib.figure.Figure at 0x188c9f1a470>"
      ]
     },
     "metadata": {},
     "output_type": "display_data"
    }
   ],
   "source": [
    "import numpy as np\n",
    "import matplotlib.pyplot as plt\n",
    "from matplotlib.ticker import MaxNLocator\n",
    "from collections import namedtuple\n",
    "\n",
    "\n",
    "n_groups = 4\n",
    "\n",
    "fig, ax = plt.subplots()\n",
    "\n",
    "index = np.arange(n_groups)\n",
    "bar_width = 0.35\n",
    "\n",
    "opacity = 0.4\n",
    "error_config = {'ecolor': '0.3'}\n",
    "\n",
    "rects1 = ax.bar(index, predicted_scores_f, bar_width,\n",
    "                alpha=opacity, color='b',\n",
    "                label='generated')\n",
    "\n",
    "rects2 = ax.bar(index + bar_width, actual_scores_f, bar_width,\n",
    "                alpha=opacity, color='r',\n",
    "                label='actual')\n",
    "\n",
    "ax.set_xlabel('type of triad')\n",
    "ax.set_ylabel('log(no of triads)')\n",
    "ax.set_title('Scores by triad type and no of triads')\n",
    "ax.set_xticks(index + bar_width / 2)\n",
    "ax.set_xticklabels(actual_scores_f_labels)\n",
    "ax.legend()\n",
    "\n",
    "fig.tight_layout()\n",
    "plt.show()"
   ]
  },
  {
   "cell_type": "markdown",
   "metadata": {},
   "source": [
    "# Now we will use the WIKIPEDIA text data to do the same"
   ]
  },
  {
   "cell_type": "markdown",
   "metadata": {},
   "source": [
    "# Data Preprocessing and visualisation -- wiki"
   ]
  },
  {
   "cell_type": "code",
   "execution_count": 16,
   "metadata": {},
   "outputs": [
    {
     "data": {
      "text/html": [
       "<div>\n",
       "<style>\n",
       "    .dataframe thead tr:only-child th {\n",
       "        text-align: right;\n",
       "    }\n",
       "\n",
       "    .dataframe thead th {\n",
       "        text-align: left;\n",
       "    }\n",
       "\n",
       "    .dataframe tbody tr th {\n",
       "        vertical-align: top;\n",
       "    }\n",
       "</style>\n",
       "<table border=\"1\" class=\"dataframe\">\n",
       "  <thead>\n",
       "    <tr style=\"text-align: right;\">\n",
       "      <th></th>\n",
       "      <th>src</th>\n",
       "      <th>tgt</th>\n",
       "      <th>vote</th>\n",
       "      <th>res</th>\n",
       "      <th>year</th>\n",
       "      <th>date</th>\n",
       "      <th>txt</th>\n",
       "      <th>weight</th>\n",
       "    </tr>\n",
       "  </thead>\n",
       "  <tbody>\n",
       "    <tr>\n",
       "      <th>0</th>\n",
       "      <td>Steel1943</td>\n",
       "      <td>BDD</td>\n",
       "      <td>1</td>\n",
       "      <td>1</td>\n",
       "      <td>2013</td>\n",
       "      <td>201304192313</td>\n",
       "      <td>'''Support''' as co-nom.</td>\n",
       "      <td>1</td>\n",
       "    </tr>\n",
       "    <tr>\n",
       "      <th>1</th>\n",
       "      <td>Cuchullain</td>\n",
       "      <td>BDD</td>\n",
       "      <td>1</td>\n",
       "      <td>1</td>\n",
       "      <td>2013</td>\n",
       "      <td>201304200104</td>\n",
       "      <td>'''Support''' as nominator.--</td>\n",
       "      <td>1</td>\n",
       "    </tr>\n",
       "    <tr>\n",
       "      <th>2</th>\n",
       "      <td>INeverCry</td>\n",
       "      <td>BDD</td>\n",
       "      <td>1</td>\n",
       "      <td>1</td>\n",
       "      <td>2013</td>\n",
       "      <td>201304192343</td>\n",
       "      <td>'''Support''' per noms.</td>\n",
       "      <td>1</td>\n",
       "    </tr>\n",
       "    <tr>\n",
       "      <th>3</th>\n",
       "      <td>Cncmaster</td>\n",
       "      <td>BDD</td>\n",
       "      <td>1</td>\n",
       "      <td>1</td>\n",
       "      <td>2013</td>\n",
       "      <td>201304200011</td>\n",
       "      <td>'''Support''' per noms. BDD is a strong contri...</td>\n",
       "      <td>1</td>\n",
       "    </tr>\n",
       "    <tr>\n",
       "      <th>4</th>\n",
       "      <td>Miniapolis</td>\n",
       "      <td>BDD</td>\n",
       "      <td>1</td>\n",
       "      <td>1</td>\n",
       "      <td>2013</td>\n",
       "      <td>201304200056</td>\n",
       "      <td>'''Support''', with great pleasure. I work wit...</td>\n",
       "      <td>1</td>\n",
       "    </tr>\n",
       "    <tr>\n",
       "      <th>5</th>\n",
       "      <td>Sven Manguard</td>\n",
       "      <td>BDD</td>\n",
       "      <td>1</td>\n",
       "      <td>1</td>\n",
       "      <td>2013</td>\n",
       "      <td>201304200153</td>\n",
       "      <td>'''Support''' There are plenty of important ro...</td>\n",
       "      <td>1</td>\n",
       "    </tr>\n",
       "    <tr>\n",
       "      <th>6</th>\n",
       "      <td>Ramaksoud2000</td>\n",
       "      <td>BDD</td>\n",
       "      <td>1</td>\n",
       "      <td>1</td>\n",
       "      <td>2013</td>\n",
       "      <td>201304200200</td>\n",
       "      <td>'''Support''' per noms. I don't see a reason n...</td>\n",
       "      <td>1</td>\n",
       "    </tr>\n",
       "    <tr>\n",
       "      <th>7</th>\n",
       "      <td>RockMagnetist</td>\n",
       "      <td>BDD</td>\n",
       "      <td>1</td>\n",
       "      <td>1</td>\n",
       "      <td>2013</td>\n",
       "      <td>201304200218</td>\n",
       "      <td>'''Support'''  BDD already wields a broom pret...</td>\n",
       "      <td>1</td>\n",
       "    </tr>\n",
       "    <tr>\n",
       "      <th>8</th>\n",
       "      <td>Carrite</td>\n",
       "      <td>BDD</td>\n",
       "      <td>1</td>\n",
       "      <td>1</td>\n",
       "      <td>2013</td>\n",
       "      <td>201304200222</td>\n",
       "      <td>'''Support''' barring a completely unexpected ...</td>\n",
       "      <td>1</td>\n",
       "    </tr>\n",
       "    <tr>\n",
       "      <th>9</th>\n",
       "      <td>Someguy1221</td>\n",
       "      <td>BDD</td>\n",
       "      <td>1</td>\n",
       "      <td>1</td>\n",
       "      <td>2013</td>\n",
       "      <td>201304200309</td>\n",
       "      <td>'''Support''' because I see no good reason not...</td>\n",
       "      <td>1</td>\n",
       "    </tr>\n",
       "    <tr>\n",
       "      <th>10</th>\n",
       "      <td>Secret</td>\n",
       "      <td>BDD</td>\n",
       "      <td>1</td>\n",
       "      <td>1</td>\n",
       "      <td>2013</td>\n",
       "      <td>201304200318</td>\n",
       "      <td>'''Support''' if a qualified editor is asking ...</td>\n",
       "      <td>1</td>\n",
       "    </tr>\n",
       "    <tr>\n",
       "      <th>11</th>\n",
       "      <td>Dennis Brown</td>\n",
       "      <td>BDD</td>\n",
       "      <td>1</td>\n",
       "      <td>1</td>\n",
       "      <td>2013</td>\n",
       "      <td>201304200320</td>\n",
       "      <td>'''Support''' - I've done a formal review on h...</td>\n",
       "      <td>1</td>\n",
       "    </tr>\n",
       "    <tr>\n",
       "      <th>12</th>\n",
       "      <td>MJ94</td>\n",
       "      <td>BDD</td>\n",
       "      <td>1</td>\n",
       "      <td>1</td>\n",
       "      <td>2013</td>\n",
       "      <td>201304200325</td>\n",
       "      <td>'''Support''' From his hard work in copyeditin...</td>\n",
       "      <td>1</td>\n",
       "    </tr>\n",
       "    <tr>\n",
       "      <th>13</th>\n",
       "      <td>King of Hearts</td>\n",
       "      <td>BDD</td>\n",
       "      <td>1</td>\n",
       "      <td>1</td>\n",
       "      <td>2013</td>\n",
       "      <td>201304200328</td>\n",
       "      <td>'''Support''' Seems to be a good editor. [[Use...</td>\n",
       "      <td>1</td>\n",
       "    </tr>\n",
       "    <tr>\n",
       "      <th>14</th>\n",
       "      <td>Go Phightins!</td>\n",
       "      <td>BDD</td>\n",
       "      <td>1</td>\n",
       "      <td>1</td>\n",
       "      <td>2013</td>\n",
       "      <td>201304200339</td>\n",
       "      <td>'''Support''' - my father told me you can alwa...</td>\n",
       "      <td>1</td>\n",
       "    </tr>\n",
       "    <tr>\n",
       "      <th>15</th>\n",
       "      <td>Hahc21</td>\n",
       "      <td>BDD</td>\n",
       "      <td>1</td>\n",
       "      <td>1</td>\n",
       "      <td>2013</td>\n",
       "      <td>201304200449</td>\n",
       "      <td>Yea, I've seen him a lot. Good candidate. —</td>\n",
       "      <td>1</td>\n",
       "    </tr>\n",
       "    <tr>\n",
       "      <th>16</th>\n",
       "      <td>TBrandley</td>\n",
       "      <td>BDD</td>\n",
       "      <td>1</td>\n",
       "      <td>1</td>\n",
       "      <td>2013</td>\n",
       "      <td>201304200704</td>\n",
       "      <td>'''Support''' Net positive contributor. '''</td>\n",
       "      <td>1</td>\n",
       "    </tr>\n",
       "    <tr>\n",
       "      <th>17</th>\n",
       "      <td>Mazca</td>\n",
       "      <td>BDD</td>\n",
       "      <td>1</td>\n",
       "      <td>1</td>\n",
       "      <td>2013</td>\n",
       "      <td>201304201108</td>\n",
       "      <td>'''Support''', looks good to me. Competent use...</td>\n",
       "      <td>1</td>\n",
       "    </tr>\n",
       "    <tr>\n",
       "      <th>18</th>\n",
       "      <td>Pratyya Ghosh</td>\n",
       "      <td>BDD</td>\n",
       "      <td>1</td>\n",
       "      <td>1</td>\n",
       "      <td>2013</td>\n",
       "      <td>201304201426</td>\n",
       "      <td>'''Support''' No Problem.--'''</td>\n",
       "      <td>1</td>\n",
       "    </tr>\n",
       "    <tr>\n",
       "      <th>19</th>\n",
       "      <td>Film at 11</td>\n",
       "      <td>BDD</td>\n",
       "      <td>1</td>\n",
       "      <td>1</td>\n",
       "      <td>2013</td>\n",
       "      <td>201304201527</td>\n",
       "      <td>'''Support''' looks like a great candidate for...</td>\n",
       "      <td>1</td>\n",
       "    </tr>\n",
       "    <tr>\n",
       "      <th>20</th>\n",
       "      <td>Nyttend</td>\n",
       "      <td>BDD</td>\n",
       "      <td>1</td>\n",
       "      <td>1</td>\n",
       "      <td>2013</td>\n",
       "      <td>201304201551</td>\n",
       "      <td>'''Support''' Here since 2004 + no problems = ...</td>\n",
       "      <td>1</td>\n",
       "    </tr>\n",
       "    <tr>\n",
       "      <th>21</th>\n",
       "      <td>SlimVirgin</td>\n",
       "      <td>BDD</td>\n",
       "      <td>1</td>\n",
       "      <td>1</td>\n",
       "      <td>2013</td>\n",
       "      <td>201304201635</td>\n",
       "      <td>'''Support''' with pleasure.</td>\n",
       "      <td>1</td>\n",
       "    </tr>\n",
       "    <tr>\n",
       "      <th>22</th>\n",
       "      <td>Ducknish</td>\n",
       "      <td>BDD</td>\n",
       "      <td>1</td>\n",
       "      <td>1</td>\n",
       "      <td>2013</td>\n",
       "      <td>201304201653</td>\n",
       "      <td>'''Support'''. No concerns.</td>\n",
       "      <td>1</td>\n",
       "    </tr>\n",
       "    <tr>\n",
       "      <th>23</th>\n",
       "      <td>Bluerasberry</td>\n",
       "      <td>BDD</td>\n",
       "      <td>1</td>\n",
       "      <td>1</td>\n",
       "      <td>2013</td>\n",
       "      <td>201304201708</td>\n",
       "      <td>'''Support''' BDD seems like a good candidate....</td>\n",
       "      <td>1</td>\n",
       "    </tr>\n",
       "    <tr>\n",
       "      <th>24</th>\n",
       "      <td>DanielTom</td>\n",
       "      <td>BDD</td>\n",
       "      <td>1</td>\n",
       "      <td>1</td>\n",
       "      <td>2013</td>\n",
       "      <td>201304201747</td>\n",
       "      <td>'''Support''' No worries. From what I've seen,...</td>\n",
       "      <td>1</td>\n",
       "    </tr>\n",
       "    <tr>\n",
       "      <th>25</th>\n",
       "      <td>RightCowLeftCoast</td>\n",
       "      <td>BDD</td>\n",
       "      <td>1</td>\n",
       "      <td>1</td>\n",
       "      <td>2013</td>\n",
       "      <td>201304201837</td>\n",
       "      <td>'''Support''', although one would be generally...</td>\n",
       "      <td>1</td>\n",
       "    </tr>\n",
       "    <tr>\n",
       "      <th>26</th>\n",
       "      <td>Boing! said Zebedee</td>\n",
       "      <td>BDD</td>\n",
       "      <td>1</td>\n",
       "      <td>1</td>\n",
       "      <td>2013</td>\n",
       "      <td>201304201847</td>\n",
       "      <td>'''Support'''. I can understand opposers who w...</td>\n",
       "      <td>1</td>\n",
       "    </tr>\n",
       "    <tr>\n",
       "      <th>27</th>\n",
       "      <td>Shadowjams</td>\n",
       "      <td>BDD</td>\n",
       "      <td>1</td>\n",
       "      <td>1</td>\n",
       "      <td>2013</td>\n",
       "      <td>201304201942</td>\n",
       "      <td>'''Support''' - I understand the opposers in p...</td>\n",
       "      <td>1</td>\n",
       "    </tr>\n",
       "    <tr>\n",
       "      <th>28</th>\n",
       "      <td>Tolly4bolly</td>\n",
       "      <td>BDD</td>\n",
       "      <td>1</td>\n",
       "      <td>1</td>\n",
       "      <td>2013</td>\n",
       "      <td>201304201950</td>\n",
       "      <td>'''Support''' - no concerns.</td>\n",
       "      <td>1</td>\n",
       "    </tr>\n",
       "    <tr>\n",
       "      <th>29</th>\n",
       "      <td>NintendoFan</td>\n",
       "      <td>BDD</td>\n",
       "      <td>1</td>\n",
       "      <td>1</td>\n",
       "      <td>2013</td>\n",
       "      <td>201304202051</td>\n",
       "      <td>'''Support''', looks like a fine editor.</td>\n",
       "      <td>1</td>\n",
       "    </tr>\n",
       "    <tr>\n",
       "      <th>...</th>\n",
       "      <td>...</td>\n",
       "      <td>...</td>\n",
       "      <td>...</td>\n",
       "      <td>...</td>\n",
       "      <td>...</td>\n",
       "      <td>...</td>\n",
       "      <td>...</td>\n",
       "      <td>...</td>\n",
       "    </tr>\n",
       "    <tr>\n",
       "      <th>198345</th>\n",
       "      <td>Hadal</td>\n",
       "      <td>Sam Spade</td>\n",
       "      <td>-1</td>\n",
       "      <td>-1</td>\n",
       "      <td>2004</td>\n",
       "      <td>200410080530</td>\n",
       "      <td>Strongly oppose. Never have I met such a persi...</td>\n",
       "      <td>0</td>\n",
       "    </tr>\n",
       "    <tr>\n",
       "      <th>198346</th>\n",
       "      <td>Stewartadcock</td>\n",
       "      <td>Sam Spade</td>\n",
       "      <td>-1</td>\n",
       "      <td>-1</td>\n",
       "      <td>2004</td>\n",
       "      <td>200410082155</td>\n",
       "      <td>&lt;!-- [[User:132.239.16.160|132.239.16.160]] --&gt;</td>\n",
       "      <td>0</td>\n",
       "    </tr>\n",
       "    <tr>\n",
       "      <th>198348</th>\n",
       "      <td>Humus sapiens</td>\n",
       "      <td>Sam Spade</td>\n",
       "      <td>-1</td>\n",
       "      <td>-1</td>\n",
       "      <td>2004</td>\n",
       "      <td>200410100851</td>\n",
       "      <td>Oppose at this time. [[User:Humus sapiens|&lt;now...</td>\n",
       "      <td>0</td>\n",
       "    </tr>\n",
       "    <tr>\n",
       "      <th>198351</th>\n",
       "      <td>Xtra</td>\n",
       "      <td>Sam Spade</td>\n",
       "      <td>-1</td>\n",
       "      <td>-1</td>\n",
       "      <td>2004</td>\n",
       "      <td>200410100940</td>\n",
       "      <td></td>\n",
       "      <td>0</td>\n",
       "    </tr>\n",
       "    <tr>\n",
       "      <th>198352</th>\n",
       "      <td>MathKnight</td>\n",
       "      <td>Sam Spade</td>\n",
       "      <td>-1</td>\n",
       "      <td>-1</td>\n",
       "      <td>2004</td>\n",
       "      <td>200410100952</td>\n",
       "      <td>Oppose. Too disputed to be appointed as admin.</td>\n",
       "      <td>0</td>\n",
       "    </tr>\n",
       "    <tr>\n",
       "      <th>198353</th>\n",
       "      <td>Tannin</td>\n",
       "      <td>Sam Spade</td>\n",
       "      <td>-1</td>\n",
       "      <td>-1</td>\n",
       "      <td>2004</td>\n",
       "      <td>200410101002</td>\n",
       "      <td>Oppose absolutely, for most of the reasons lis...</td>\n",
       "      <td>0</td>\n",
       "    </tr>\n",
       "    <tr>\n",
       "      <th>198354</th>\n",
       "      <td>Andries</td>\n",
       "      <td>Sam Spade</td>\n",
       "      <td>-1</td>\n",
       "      <td>-1</td>\n",
       "      <td>2004</td>\n",
       "      <td>200410101013</td>\n",
       "      <td>Oppose. I like Sam Spade as a person but I thi...</td>\n",
       "      <td>0</td>\n",
       "    </tr>\n",
       "    <tr>\n",
       "      <th>198356</th>\n",
       "      <td>Shem Daimwood</td>\n",
       "      <td>Sam Spade</td>\n",
       "      <td>-1</td>\n",
       "      <td>-1</td>\n",
       "      <td>2004</td>\n",
       "      <td>200410101032</td>\n",
       "      <td>No, same reasons listed by Grunt, Ingoolemo, e...</td>\n",
       "      <td>0</td>\n",
       "    </tr>\n",
       "    <tr>\n",
       "      <th>198357</th>\n",
       "      <td>French Tourist</td>\n",
       "      <td>Sam Spade</td>\n",
       "      <td>-1</td>\n",
       "      <td>-1</td>\n",
       "      <td>2004</td>\n",
       "      <td>200410101758</td>\n",
       "      <td>Oppose. --</td>\n",
       "      <td>0</td>\n",
       "    </tr>\n",
       "    <tr>\n",
       "      <th>198358</th>\n",
       "      <td>Pir</td>\n",
       "      <td>Sam Spade</td>\n",
       "      <td>0</td>\n",
       "      <td>-1</td>\n",
       "      <td>2004</td>\n",
       "      <td>200410041554</td>\n",
       "      <td>From what I have seen, Sam has generally acted...</td>\n",
       "      <td>0</td>\n",
       "    </tr>\n",
       "    <tr>\n",
       "      <th>198359</th>\n",
       "      <td>Davidcannon</td>\n",
       "      <td>Sam Spade</td>\n",
       "      <td>0</td>\n",
       "      <td>-1</td>\n",
       "      <td>2004</td>\n",
       "      <td>200410050214</td>\n",
       "      <td></td>\n",
       "      <td>0</td>\n",
       "    </tr>\n",
       "    <tr>\n",
       "      <th>198360</th>\n",
       "      <td>Andrevan</td>\n",
       "      <td>Sam Spade</td>\n",
       "      <td>0</td>\n",
       "      <td>-1</td>\n",
       "      <td>2004</td>\n",
       "      <td>200410061456</td>\n",
       "      <td>I've seen him a few times and liked what I saw...</td>\n",
       "      <td>0</td>\n",
       "    </tr>\n",
       "    <tr>\n",
       "      <th>198362</th>\n",
       "      <td>Rickyrab</td>\n",
       "      <td>Sam Spade</td>\n",
       "      <td>0</td>\n",
       "      <td>-1</td>\n",
       "      <td>2004</td>\n",
       "      <td>200410080344</td>\n",
       "      <td>MMMMMMmmmaybe. He's a fine old Wikipedian, but...</td>\n",
       "      <td>0</td>\n",
       "    </tr>\n",
       "    <tr>\n",
       "      <th>198363</th>\n",
       "      <td>Evolver of Borg</td>\n",
       "      <td>Sam Spade</td>\n",
       "      <td>0</td>\n",
       "      <td>-1</td>\n",
       "      <td>2004</td>\n",
       "      <td>200410101957</td>\n",
       "      <td>From his record, I can't decide either way for...</td>\n",
       "      <td>0</td>\n",
       "    </tr>\n",
       "    <tr>\n",
       "      <th>198365</th>\n",
       "      <td>Acegikmo1</td>\n",
       "      <td>ScudLee</td>\n",
       "      <td>1</td>\n",
       "      <td>-1</td>\n",
       "      <td>2004</td>\n",
       "      <td>200410210451</td>\n",
       "      <td></td>\n",
       "      <td>1</td>\n",
       "    </tr>\n",
       "    <tr>\n",
       "      <th>198368</th>\n",
       "      <td>Lst27</td>\n",
       "      <td>ScudLee</td>\n",
       "      <td>1</td>\n",
       "      <td>-1</td>\n",
       "      <td>2004</td>\n",
       "      <td>200410232153</td>\n",
       "      <td>&lt;s&gt;Great work! I will support you after you cr...</td>\n",
       "      <td>1</td>\n",
       "    </tr>\n",
       "    <tr>\n",
       "      <th>198369</th>\n",
       "      <td>Ejrrjs</td>\n",
       "      <td>ScudLee</td>\n",
       "      <td>1</td>\n",
       "      <td>-1</td>\n",
       "      <td>2004</td>\n",
       "      <td>200410232357</td>\n",
       "      <td></td>\n",
       "      <td>1</td>\n",
       "    </tr>\n",
       "    <tr>\n",
       "      <th>198371</th>\n",
       "      <td>Func</td>\n",
       "      <td>ScudLee</td>\n",
       "      <td>1</td>\n",
       "      <td>-1</td>\n",
       "      <td>2004</td>\n",
       "      <td>200410241855</td>\n",
       "      <td>I am considering blanking my user page in prot...</td>\n",
       "      <td>1</td>\n",
       "    </tr>\n",
       "    <tr>\n",
       "      <th>198372</th>\n",
       "      <td>Goobergunch</td>\n",
       "      <td>ScudLee</td>\n",
       "      <td>1</td>\n",
       "      <td>-1</td>\n",
       "      <td>2004</td>\n",
       "      <td>200410242037</td>\n",
       "      <td></td>\n",
       "      <td>1</td>\n",
       "    </tr>\n",
       "    <tr>\n",
       "      <th>198375</th>\n",
       "      <td>Isomorphic</td>\n",
       "      <td>ScudLee</td>\n",
       "      <td>1</td>\n",
       "      <td>-1</td>\n",
       "      <td>2004</td>\n",
       "      <td>200410252239</td>\n",
       "      <td>I don't see such a mild eccentricity as reason...</td>\n",
       "      <td>1</td>\n",
       "    </tr>\n",
       "    <tr>\n",
       "      <th>198376</th>\n",
       "      <td>RedWordSmith</td>\n",
       "      <td>ScudLee</td>\n",
       "      <td>1</td>\n",
       "      <td>-1</td>\n",
       "      <td>2004</td>\n",
       "      <td>200410270259</td>\n",
       "      <td>Support. What Cyp said above. -</td>\n",
       "      <td>1</td>\n",
       "    </tr>\n",
       "    <tr>\n",
       "      <th>198377</th>\n",
       "      <td>Ludraman</td>\n",
       "      <td>ScudLee</td>\n",
       "      <td>1</td>\n",
       "      <td>-1</td>\n",
       "      <td>2004</td>\n",
       "      <td>200410271917</td>\n",
       "      <td>While I would ''prefer'' Lee to have a userpag...</td>\n",
       "      <td>1</td>\n",
       "    </tr>\n",
       "    <tr>\n",
       "      <th>198378</th>\n",
       "      <td>Anárion</td>\n",
       "      <td>ScudLee</td>\n",
       "      <td>-1</td>\n",
       "      <td>-1</td>\n",
       "      <td>2004</td>\n",
       "      <td>200410211137</td>\n",
       "      <td>Won't support users without a user page. I don...</td>\n",
       "      <td>0</td>\n",
       "    </tr>\n",
       "    <tr>\n",
       "      <th>198379</th>\n",
       "      <td>Blankfaze</td>\n",
       "      <td>ScudLee</td>\n",
       "      <td>-1</td>\n",
       "      <td>-1</td>\n",
       "      <td>2004</td>\n",
       "      <td>200410212142</td>\n",
       "      <td>Will support if user creates a user page (even...</td>\n",
       "      <td>0</td>\n",
       "    </tr>\n",
       "    <tr>\n",
       "      <th>198380</th>\n",
       "      <td>Tuomas</td>\n",
       "      <td>ScudLee</td>\n",
       "      <td>-1</td>\n",
       "      <td>-1</td>\n",
       "      <td>2004</td>\n",
       "      <td>200410212353</td>\n",
       "      <td>I find this nomination, at a time when there w...</td>\n",
       "      <td>0</td>\n",
       "    </tr>\n",
       "    <tr>\n",
       "      <th>198381</th>\n",
       "      <td>Ambi</td>\n",
       "      <td>ScudLee</td>\n",
       "      <td>-1</td>\n",
       "      <td>-1</td>\n",
       "      <td>2004</td>\n",
       "      <td>200410231402</td>\n",
       "      <td>Opposing, for the same reason as the above three.</td>\n",
       "      <td>0</td>\n",
       "    </tr>\n",
       "    <tr>\n",
       "      <th>198385</th>\n",
       "      <td>Ta bu shi da yu</td>\n",
       "      <td>ScudLee</td>\n",
       "      <td>-1</td>\n",
       "      <td>-1</td>\n",
       "      <td>2004</td>\n",
       "      <td>200410250828</td>\n",
       "      <td>I know nothing about him, and after looking at...</td>\n",
       "      <td>0</td>\n",
       "    </tr>\n",
       "    <tr>\n",
       "      <th>198386</th>\n",
       "      <td>UninvitedCompany</td>\n",
       "      <td>ScudLee</td>\n",
       "      <td>-1</td>\n",
       "      <td>-1</td>\n",
       "      <td>2004</td>\n",
       "      <td>200410251311</td>\n",
       "      <td>Wikipedia works because its contributors mostl...</td>\n",
       "      <td>0</td>\n",
       "    </tr>\n",
       "    <tr>\n",
       "      <th>198388</th>\n",
       "      <td>Everyking</td>\n",
       "      <td>ScudLee</td>\n",
       "      <td>0</td>\n",
       "      <td>-1</td>\n",
       "      <td>2004</td>\n",
       "      <td>200410211017</td>\n",
       "      <td>Didn't he have the vote go on for a while last...</td>\n",
       "      <td>0</td>\n",
       "    </tr>\n",
       "    <tr>\n",
       "      <th>198389</th>\n",
       "      <td>Wile E. Heresiarch</td>\n",
       "      <td>ScudLee</td>\n",
       "      <td>0</td>\n",
       "      <td>-1</td>\n",
       "      <td>2004</td>\n",
       "      <td>200410221457</td>\n",
       "      <td>Obsession w/ pop culture trivia shows a lack o...</td>\n",
       "      <td>0</td>\n",
       "    </tr>\n",
       "  </tbody>\n",
       "</table>\n",
       "<p>188986 rows × 8 columns</p>\n",
       "</div>"
      ],
      "text/plain": [
       "                        src        tgt vote res  year          date  \\\n",
       "0                 Steel1943        BDD    1   1  2013  201304192313   \n",
       "1                Cuchullain        BDD    1   1  2013  201304200104   \n",
       "2                 INeverCry        BDD    1   1  2013  201304192343   \n",
       "3                 Cncmaster        BDD    1   1  2013  201304200011   \n",
       "4                Miniapolis        BDD    1   1  2013  201304200056   \n",
       "5             Sven Manguard        BDD    1   1  2013  201304200153   \n",
       "6             Ramaksoud2000        BDD    1   1  2013  201304200200   \n",
       "7             RockMagnetist        BDD    1   1  2013  201304200218   \n",
       "8                   Carrite        BDD    1   1  2013  201304200222   \n",
       "9               Someguy1221        BDD    1   1  2013  201304200309   \n",
       "10                   Secret        BDD    1   1  2013  201304200318   \n",
       "11             Dennis Brown        BDD    1   1  2013  201304200320   \n",
       "12                     MJ94        BDD    1   1  2013  201304200325   \n",
       "13           King of Hearts        BDD    1   1  2013  201304200328   \n",
       "14            Go Phightins!        BDD    1   1  2013  201304200339   \n",
       "15                   Hahc21        BDD    1   1  2013  201304200449   \n",
       "16                TBrandley        BDD    1   1  2013  201304200704   \n",
       "17                    Mazca        BDD    1   1  2013  201304201108   \n",
       "18            Pratyya Ghosh        BDD    1   1  2013  201304201426   \n",
       "19               Film at 11        BDD    1   1  2013  201304201527   \n",
       "20                  Nyttend        BDD    1   1  2013  201304201551   \n",
       "21               SlimVirgin        BDD    1   1  2013  201304201635   \n",
       "22                 Ducknish        BDD    1   1  2013  201304201653   \n",
       "23             Bluerasberry        BDD    1   1  2013  201304201708   \n",
       "24                DanielTom        BDD    1   1  2013  201304201747   \n",
       "25        RightCowLeftCoast        BDD    1   1  2013  201304201837   \n",
       "26      Boing! said Zebedee        BDD    1   1  2013  201304201847   \n",
       "27               Shadowjams        BDD    1   1  2013  201304201942   \n",
       "28              Tolly4bolly        BDD    1   1  2013  201304201950   \n",
       "29              NintendoFan        BDD    1   1  2013  201304202051   \n",
       "...                     ...        ...  ...  ..   ...           ...   \n",
       "198345                Hadal  Sam Spade   -1  -1  2004  200410080530   \n",
       "198346        Stewartadcock  Sam Spade   -1  -1  2004  200410082155   \n",
       "198348        Humus sapiens  Sam Spade   -1  -1  2004  200410100851   \n",
       "198351                 Xtra  Sam Spade   -1  -1  2004  200410100940   \n",
       "198352           MathKnight  Sam Spade   -1  -1  2004  200410100952   \n",
       "198353               Tannin  Sam Spade   -1  -1  2004  200410101002   \n",
       "198354              Andries  Sam Spade   -1  -1  2004  200410101013   \n",
       "198356        Shem Daimwood  Sam Spade   -1  -1  2004  200410101032   \n",
       "198357       French Tourist  Sam Spade   -1  -1  2004  200410101758   \n",
       "198358                  Pir  Sam Spade    0  -1  2004  200410041554   \n",
       "198359          Davidcannon  Sam Spade    0  -1  2004  200410050214   \n",
       "198360             Andrevan  Sam Spade    0  -1  2004  200410061456   \n",
       "198362             Rickyrab  Sam Spade    0  -1  2004  200410080344   \n",
       "198363      Evolver of Borg  Sam Spade    0  -1  2004  200410101957   \n",
       "198365            Acegikmo1    ScudLee    1  -1  2004  200410210451   \n",
       "198368                Lst27    ScudLee    1  -1  2004  200410232153   \n",
       "198369               Ejrrjs    ScudLee    1  -1  2004  200410232357   \n",
       "198371                 Func    ScudLee    1  -1  2004  200410241855   \n",
       "198372          Goobergunch    ScudLee    1  -1  2004  200410242037   \n",
       "198375           Isomorphic    ScudLee    1  -1  2004  200410252239   \n",
       "198376         RedWordSmith    ScudLee    1  -1  2004  200410270259   \n",
       "198377             Ludraman    ScudLee    1  -1  2004  200410271917   \n",
       "198378              Anárion    ScudLee   -1  -1  2004  200410211137   \n",
       "198379            Blankfaze    ScudLee   -1  -1  2004  200410212142   \n",
       "198380               Tuomas    ScudLee   -1  -1  2004  200410212353   \n",
       "198381                 Ambi    ScudLee   -1  -1  2004  200410231402   \n",
       "198385      Ta bu shi da yu    ScudLee   -1  -1  2004  200410250828   \n",
       "198386     UninvitedCompany    ScudLee   -1  -1  2004  200410251311   \n",
       "198388            Everyking    ScudLee    0  -1  2004  200410211017   \n",
       "198389   Wile E. Heresiarch    ScudLee    0  -1  2004  200410221457   \n",
       "\n",
       "                                                      txt  weight  \n",
       "0                                '''Support''' as co-nom.       1  \n",
       "1                           '''Support''' as nominator.--       1  \n",
       "2                                 '''Support''' per noms.       1  \n",
       "3       '''Support''' per noms. BDD is a strong contri...       1  \n",
       "4       '''Support''', with great pleasure. I work wit...       1  \n",
       "5       '''Support''' There are plenty of important ro...       1  \n",
       "6       '''Support''' per noms. I don't see a reason n...       1  \n",
       "7       '''Support'''  BDD already wields a broom pret...       1  \n",
       "8       '''Support''' barring a completely unexpected ...       1  \n",
       "9       '''Support''' because I see no good reason not...       1  \n",
       "10      '''Support''' if a qualified editor is asking ...       1  \n",
       "11      '''Support''' - I've done a formal review on h...       1  \n",
       "12      '''Support''' From his hard work in copyeditin...       1  \n",
       "13      '''Support''' Seems to be a good editor. [[Use...       1  \n",
       "14      '''Support''' - my father told me you can alwa...       1  \n",
       "15            Yea, I've seen him a lot. Good candidate. —       1  \n",
       "16            '''Support''' Net positive contributor. '''       1  \n",
       "17      '''Support''', looks good to me. Competent use...       1  \n",
       "18                         '''Support''' No Problem.--'''       1  \n",
       "19      '''Support''' looks like a great candidate for...       1  \n",
       "20      '''Support''' Here since 2004 + no problems = ...       1  \n",
       "21                           '''Support''' with pleasure.       1  \n",
       "22                            '''Support'''. No concerns.       1  \n",
       "23      '''Support''' BDD seems like a good candidate....       1  \n",
       "24      '''Support''' No worries. From what I've seen,...       1  \n",
       "25      '''Support''', although one would be generally...       1  \n",
       "26      '''Support'''. I can understand opposers who w...       1  \n",
       "27      '''Support''' - I understand the opposers in p...       1  \n",
       "28                           '''Support''' - no concerns.       1  \n",
       "29              '''Support''', looks like a fine editor.        1  \n",
       "...                                                   ...     ...  \n",
       "198345  Strongly oppose. Never have I met such a persi...       0  \n",
       "198346    <!-- [[User:132.239.16.160|132.239.16.160]] -->       0  \n",
       "198348  Oppose at this time. [[User:Humus sapiens|<now...       0  \n",
       "198351                                                          0  \n",
       "198352     Oppose. Too disputed to be appointed as admin.       0  \n",
       "198353  Oppose absolutely, for most of the reasons lis...       0  \n",
       "198354  Oppose. I like Sam Spade as a person but I thi...       0  \n",
       "198356  No, same reasons listed by Grunt, Ingoolemo, e...       0  \n",
       "198357                                         Oppose. --       0  \n",
       "198358  From what I have seen, Sam has generally acted...       0  \n",
       "198359                                                          0  \n",
       "198360  I've seen him a few times and liked what I saw...       0  \n",
       "198362  MMMMMMmmmaybe. He's a fine old Wikipedian, but...       0  \n",
       "198363  From his record, I can't decide either way for...       0  \n",
       "198365                                                          1  \n",
       "198368  <s>Great work! I will support you after you cr...       1  \n",
       "198369                                                          1  \n",
       "198371  I am considering blanking my user page in prot...       1  \n",
       "198372                                                          1  \n",
       "198375  I don't see such a mild eccentricity as reason...       1  \n",
       "198376                    Support. What Cyp said above. -       1  \n",
       "198377  While I would ''prefer'' Lee to have a userpag...       1  \n",
       "198378  Won't support users without a user page. I don...       0  \n",
       "198379  Will support if user creates a user page (even...       0  \n",
       "198380  I find this nomination, at a time when there w...       0  \n",
       "198381  Opposing, for the same reason as the above three.       0  \n",
       "198385  I know nothing about him, and after looking at...       0  \n",
       "198386  Wikipedia works because its contributors mostl...       0  \n",
       "198388  Didn't he have the vote go on for a while last...       0  \n",
       "198389  Obsession w/ pop culture trivia shows a lack o...       0  \n",
       "\n",
       "[188986 rows x 8 columns]"
      ]
     },
     "execution_count": 16,
     "metadata": {},
     "output_type": "execute_result"
    }
   ],
   "source": [
    "from datetime import datetime\n",
    "import pandas as pd\n",
    "f = open(\"wiki-Rfa.txt\",encoding=\"utf8\")\n",
    "\n",
    "sources = []\n",
    "targets = []\n",
    "votes = []\n",
    "results = []\n",
    "years = []\n",
    "dates = []\n",
    "texts = []\n",
    "for line in f:\n",
    "    if(line[0:3] == \"SRC\"):\n",
    "        sources.append(line[4:].strip('\\n'))\n",
    "    if(line[0:3] == \"TGT\"):\n",
    "        targets.append(line[4:].strip('\\n'))\n",
    "    if(line[0:3] == \"VOT\"):\n",
    "        votes.append(line[4:].strip('\\n'))\n",
    "    if(line[0:3] == \"RES\"):\n",
    "        results.append(line[4:].strip('\\n'))\n",
    "    if(line[0:3] == \"YEA\"):\n",
    "        years.append(line[4:].strip('\\n'))\n",
    "    if(line[0:3] == \"DAT\"):\n",
    "            dat = line[4:]\n",
    "            if len(dat) == 1:\n",
    "                dates.append(0)\n",
    "            else:\n",
    "                dat = re.split(':|, | |\\n',dat)\n",
    "                month = {\"Jan\":\"01\",\"Janry\" : \"01\",\"January\" : \"01\",\"Feb\" : \"02\",\"February\" : \"02\",\"March\" : \"03\",\"Mar\" : \"03\",\"Apr\" : \"04\",\"April\" : \"04\",\"Mya\" : \"05\",\"May\" : \"05\",\"June\" : \"06\",\"Jun\" : \"06\",\"Julu\" : \"07\",\"July\" : \"07\",\"Jul\":\"07\",\"Aug\":\"08\",\"August\" : \"08\",\"Sep\" : \"09\",\"September\" : \"09\",\"October\" : 10,\"Oct\" : 10,\"Nov\": 11,\"November\" : 11,\"December\" : 12,\"Dec\":12 }\n",
    "                x = dat[2]\n",
    "                if int(dat[2]) < 10:\n",
    "                    x = str(0) + str(dat[2])\n",
    "                dat = str(dat[4]) + str(month[dat[3]]) + str(x) + str(dat[0]) + str(dat[1])\n",
    "                dat = int(dat)\n",
    "                dates.append(dat)\n",
    "    if(line[0:3] == \"TXT\"):\n",
    "        texts.append(line[4:].strip('\\n'))\n",
    "        \n",
    "df = pd.DataFrame()\n",
    "df['src'] = sources\n",
    "df['tgt'] = targets\n",
    "df['vote'] = votes\n",
    "df['res'] = results\n",
    "df['year'] = years\n",
    "df['date'] = dates\n",
    "df['txt'] = texts\n",
    "\n",
    "df = df[df.date != 0]\n",
    "df['weight'] = [0 if int(df.iloc[i]['vote']) in [0,-1] else 1 for i in range(len(df))]\n",
    "df"
   ]
  },
  {
   "cell_type": "markdown",
   "metadata": {},
   "source": [
    "# Generating GML from txt file"
   ]
  },
  {
   "cell_type": "code",
   "execution_count": 5,
   "metadata": {},
   "outputs": [
    {
     "data": {
      "image/png": "[encoded data removed]",
      "text/plain": [
       "<matplotlib.figure.Figure at 0x18bd0dd5080>"
      ]
     },
     "metadata": {},
     "output_type": "display_data"
    }
   ],
   "source": [
    "nodes_full = list(set(df['src']).union(set(df['tgt'])))\n",
    "len(nodes_full)\n",
    "\n",
    "edges_full = [[df.iloc[i]['src'],df.iloc[i]['tgt'],df.iloc[i]['vote']] for i in range(len(df))] \n",
    "\n",
    "# Considering neutral vote as -ve edge\n",
    "\n",
    "fp1 = open(\"wiki_Rfa_full_final.gml\",'w',encoding=\"utf8\")\n",
    "fp1.write(\"graph\\n[\\n  multigraph 1\\n\")\n",
    "for i in nodes_full:\n",
    "    fp1.write(\"  node\\n  [\\n    id \"+str(nodes_full.index(i)+1)+\"\\n  ]\\n\")\n",
    "    \n",
    "for i in edges_full:\n",
    "    fp1.write(\"  edge\\n  [\\n    source \"+str(nodes_full.index(i[0])+1))\n",
    "    fp1.write(\"\\n    target \"+str(nodes_full.index(i[1])+1))\n",
    "    if int(i[2]) in [-1,0]:\n",
    "        fp1.write(\"\\n    weight 0\\n  ]\\n\")\n",
    "    else:\n",
    "        fp1.write(\"\\n    weight 1\\n  ]\\n\")\n",
    "fp1.write(\"\\n]\") \n",
    "fp1.close()\n",
    "\n",
    "\n",
    "G_orig_wiki = nx.read_gml(\"wiki_Rfa_full_final.gml\",label='id')\n",
    "nx.draw_networkx(G_orig_wiki)\n",
    "plt.show()"
   ]
  },
  {
   "cell_type": "markdown",
   "metadata": {},
   "source": [
    "# Splitting into training and test data"
   ]
  },
  {
   "cell_type": "code",
   "execution_count": 18,
   "metadata": {},
   "outputs": [
    {
     "name": "stdout",
     "output_type": "stream",
     "text": [
      "0.7999957668822029\n",
      "                          src          tgt vote res  year          date  \\\n",
      "32777                  Shappy  AdjustShift    1   1  2009  200904042018   \n",
      "32778         Jake Wartenberg  AdjustShift    1   1  2009  200904042021   \n",
      "32779                  GT5162  AdjustShift    1   1  2009  200904042021   \n",
      "32780                Giants27  AdjustShift    1   1  2009  200904042026   \n",
      "32781               America69  AdjustShift    1   1  2009  200904042039   \n",
      "32782                 Carioca  AdjustShift    1   1  2009  200904042213   \n",
      "32783                   Erik9  AdjustShift    1   1  2009  200904042237   \n",
      "32784             Pastor Theo  AdjustShift    1   1  2009  200904042248   \n",
      "32785   Faithlessthewonderboy  AdjustShift    1   1  2009  200904042256   \n",
      "32786                 Fastily  AdjustShift    1   1  2009  200904050011   \n",
      "32787             Malinaccier  AdjustShift    1   1  2009  200904050057   \n",
      "32788              Aaroncrick  AdjustShift    1   1  2009  200904050103   \n",
      "32789           Themfromspace  AdjustShift    1   1  2009  200904050123   \n",
      "32790                RayAYang  AdjustShift    1   1  2009  200904050141   \n",
      "32791            Juliancolton  AdjustShift    1   1  2009  200904050154   \n",
      "32792               Wizardman  AdjustShift    1   1  2009  200904050248   \n",
      "32793                 Marlith  AdjustShift    1   1  2009  200904050314   \n",
      "32794                    Reyk  AdjustShift    1   1  2009  200904050322   \n",
      "32795           Master&Expert  AdjustShift    1   1  2009  200904050441   \n",
      "32796                      X!  AdjustShift    1   1  2009  200904050453   \n",
      "32797           Ice Cold Beer  AdjustShift    1   1  2009  200904050525   \n",
      "32798            Mr Senseless  AdjustShift    1   1  2009  200904050617   \n",
      "32799                Dylan620  AdjustShift    1   1  2009  200904051257   \n",
      "32800            Letsdrinktea  AdjustShift    1   1  2009  200904051507   \n",
      "32801                    Nick  AdjustShift    1   1  2009  200904051729   \n",
      "32802                  Timmeh  AdjustShift    1   1  2009  200904051800   \n",
      "32803                  hmwith  AdjustShift    1   1  2009  200904052047   \n",
      "32804              Neurolysis  AdjustShift    1   1  2009  200904052049   \n",
      "32805                   Pedro  AdjustShift    1   1  2009  200904052154   \n",
      "32806                Euryalus  AdjustShift    1   1  2009  200904052304   \n",
      "...                       ...          ...  ...  ..   ...           ...   \n",
      "198345                  Hadal    Sam Spade   -1  -1  2004  200410080530   \n",
      "198346          Stewartadcock    Sam Spade   -1  -1  2004  200410082155   \n",
      "198348          Humus sapiens    Sam Spade   -1  -1  2004  200410100851   \n",
      "198351                   Xtra    Sam Spade   -1  -1  2004  200410100940   \n",
      "198352             MathKnight    Sam Spade   -1  -1  2004  200410100952   \n",
      "198353                 Tannin    Sam Spade   -1  -1  2004  200410101002   \n",
      "198354                Andries    Sam Spade   -1  -1  2004  200410101013   \n",
      "198356          Shem Daimwood    Sam Spade   -1  -1  2004  200410101032   \n",
      "198357         French Tourist    Sam Spade   -1  -1  2004  200410101758   \n",
      "198358                    Pir    Sam Spade    0  -1  2004  200410041554   \n",
      "198359            Davidcannon    Sam Spade    0  -1  2004  200410050214   \n",
      "198360               Andrevan    Sam Spade    0  -1  2004  200410061456   \n",
      "198362               Rickyrab    Sam Spade    0  -1  2004  200410080344   \n",
      "198363        Evolver of Borg    Sam Spade    0  -1  2004  200410101957   \n",
      "198365              Acegikmo1      ScudLee    1  -1  2004  200410210451   \n",
      "198368                  Lst27      ScudLee    1  -1  2004  200410232153   \n",
      "198369                 Ejrrjs      ScudLee    1  -1  2004  200410232357   \n",
      "198371                   Func      ScudLee    1  -1  2004  200410241855   \n",
      "198372            Goobergunch      ScudLee    1  -1  2004  200410242037   \n",
      "198375             Isomorphic      ScudLee    1  -1  2004  200410252239   \n",
      "198376           RedWordSmith      ScudLee    1  -1  2004  200410270259   \n",
      "198377               Ludraman      ScudLee    1  -1  2004  200410271917   \n",
      "198378                Anárion      ScudLee   -1  -1  2004  200410211137   \n",
      "198379              Blankfaze      ScudLee   -1  -1  2004  200410212142   \n",
      "198380                 Tuomas      ScudLee   -1  -1  2004  200410212353   \n",
      "198381                   Ambi      ScudLee   -1  -1  2004  200410231402   \n",
      "198385        Ta bu shi da yu      ScudLee   -1  -1  2004  200410250828   \n",
      "198386       UninvitedCompany      ScudLee   -1  -1  2004  200410251311   \n",
      "198388              Everyking      ScudLee    0  -1  2004  200410211017   \n",
      "198389     Wile E. Heresiarch      ScudLee    0  -1  2004  200410221457   \n",
      "\n",
      "                                                      txt  weight  \n",
      "32777                               No reason why not. :)       1  \n",
      "32778                                    '''Support'''  —       1  \n",
      "32779         '''Support''' Looks like he can be trusted.       1  \n",
      "32780                                                  --       1  \n",
      "32781                    '''Support''' Nothing I can see.       1  \n",
      "32782                 '''Support'''. Excellent editor. --       1  \n",
      "32783                                       '''Support'''       1  \n",
      "32784         '''Support''' No problems here.  Good luck!       1  \n",
      "32785   '''Support''' While your answer to the first q...       1  \n",
      "32786   '''Support''' Why not? -<span style=\"font-fami...       1  \n",
      "32787   '''Support'''. Good, balanced editor who will ...       1  \n",
      "32788   '''Support''' No reason to oppose. Good work, '''       1  \n",
      "32789   '''Support''' All's well with your contributio...       1  \n",
      "32790   '''Support''' I randomly spotchecked some of y...       1  \n",
      "32791   Does good work, no reason to believe he'd abus...       1  \n",
      "32792                                '''Strong support'''       1  \n",
      "32793   '''Strong support''' high activity in admin re...       1  \n",
      "32794   '''Support'''- a lot of good work in article w...       1  \n",
      "32795   This is an obvious one. AdjustShift will be an...       1  \n",
      "32796   Article work is exemplary. I'm very impressed ...       1  \n",
      "32797                                                           1  \n",
      "32798   '''Support''' Too many administrators, current...       1  \n",
      "32799   '''Support''' Not enough administrators curren...       1  \n",
      "32800   '''Support''' Good answers to questions &mdash...       1  \n",
      "32801   '''Support''' Trustworthy, head appears to be ...       1  \n",
      "32802           '''Support''' Will handle the tools well.       1  \n",
      "32803   '''Support''' Looks good to me. '''<font face=...       1  \n",
      "32804   '''Support''' - Hell yes, good contributor, ha...       1  \n",
      "32805   With pleasure, and thanks for responding to my...       1  \n",
      "32806   '''Support''' - good article work and a calm, ...       1  \n",
      "...                                                   ...     ...  \n",
      "198345  Strongly oppose. Never have I met such a persi...       0  \n",
      "198346    <!-- [[User:132.239.16.160|132.239.16.160]] -->       0  \n",
      "198348  Oppose at this time. [[User:Humus sapiens|<now...       0  \n",
      "198351                                                          0  \n",
      "198352     Oppose. Too disputed to be appointed as admin.       0  \n",
      "198353  Oppose absolutely, for most of the reasons lis...       0  \n",
      "198354  Oppose. I like Sam Spade as a person but I thi...       0  \n",
      "198356  No, same reasons listed by Grunt, Ingoolemo, e...       0  \n",
      "198357                                         Oppose. --       0  \n",
      "198358  From what I have seen, Sam has generally acted...       0  \n",
      "198359                                                          0  \n",
      "198360  I've seen him a few times and liked what I saw...       0  \n",
      "198362  MMMMMMmmmaybe. He's a fine old Wikipedian, but...       0  \n",
      "198363  From his record, I can't decide either way for...       0  \n",
      "198365                                                          1  \n",
      "198368  <s>Great work! I will support you after you cr...       1  \n",
      "198369                                                          1  \n",
      "198371  I am considering blanking my user page in prot...       1  \n",
      "198372                                                          1  \n",
      "198375  I don't see such a mild eccentricity as reason...       1  \n",
      "198376                    Support. What Cyp said above. -       1  \n",
      "198377  While I would ''prefer'' Lee to have a userpag...       1  \n",
      "198378  Won't support users without a user page. I don...       0  \n",
      "198379  Will support if user creates a user page (even...       0  \n",
      "198380  I find this nomination, at a time when there w...       0  \n",
      "198381  Opposing, for the same reason as the above three.       0  \n",
      "198385  I know nothing about him, and after looking at...       0  \n",
      "198386  Wikipedia works because its contributors mostl...       0  \n",
      "198388  Didn't he have the vote go on for a while last...       0  \n",
      "198389  Obsession w/ pop culture trivia shows a lack o...       0  \n",
      "\n",
      "[151188 rows x 8 columns]\n"
     ]
    }
   ],
   "source": [
    "# Split according to time and using 80% of it as training graph\n",
    "\n",
    "df_train = df[df['date'] < df['date'].quantile(0.8)]\n",
    "print(len(df_train)/len(df))\n",
    "print(df_train)"
   ]
  },
  {
   "cell_type": "code",
   "execution_count": 10,
   "metadata": {},
   "outputs": [
    {
     "data": {
      "image/png": "[encoded data removed]",
      "text/plain": [
       "<matplotlib.figure.Figure at 0x18bd4a95400>"
      ]
     },
     "metadata": {},
     "output_type": "display_data"
    }
   ],
   "source": [
    "nodes_train = list(set(df_train['src']).union(set(df_train['tgt'])))\n",
    "len(nodes_train)\n",
    "\n",
    "edges_train = [[df_train.iloc[i]['src'],df_train.iloc[i]['tgt'],df_train.iloc[i]['vote']] for i in range(len(df_train))] \n",
    "\n",
    "# Considering neutral vote as -ve edge\n",
    "\n",
    "fp1 = open(\"wiki_Rfa_train.gml\",'w',encoding=\"utf8\")\n",
    "fp1.write(\"graph\\n[\\n  multigraph 1\\n\")\n",
    "for i in nodes_train:\n",
    "    fp1.write(\"  node\\n  [\\n    id \"+str(nodes_train.index(i)+1)+\"\\n  ]\\n\")\n",
    "    \n",
    "for i in edges_train:\n",
    "    fp1.write(\"  edge\\n  [\\n    source \"+str(nodes_train.index(i[0])+1))\n",
    "    fp1.write(\"\\n    target \"+str(nodes_train.index(i[1])+1))\n",
    "    if int(i[2]) in [-1,0]:\n",
    "        fp1.write(\"\\n    weight 0\\n  ]\\n\")\n",
    "    else:\n",
    "        fp1.write(\"\\n    weight 1\\n  ]\\n\")\n",
    "fp1.write(\"\\n]\") \n",
    "fp1.close()\n",
    "\n",
    "G_train_wiki = nx.read_gml(\"wiki_Rfa_train.gml\",label='id')\n",
    "nx.draw_networkx(G_train_wiki)\n",
    "plt.show()"
   ]
  },
  {
   "cell_type": "markdown",
   "metadata": {},
   "source": [
    "# Defining p"
   ]
  },
  {
   "cell_type": "code",
   "execution_count": 19,
   "metadata": {},
   "outputs": [
    {
     "name": "stdout",
     "output_type": "stream",
     "text": [
      "weight\n",
      "0     39965\n",
      "1    111223\n",
      "dtype: int64\n",
      "probability of positive edges =  0.735660237585\n"
     ]
    }
   ],
   "source": [
    "nodes = nx.nodes(G_train_wiki)\n",
    "edges = nx.edges(G_train_wiki)\n",
    "\n",
    "\n",
    "# To select with probability 'p'\n",
    "# 'p' is the prob of +ve edges\n",
    "a = df_train.groupby('weight').size()\n",
    "\n",
    "#print(type(a))\n",
    "print(a)\n",
    "#print(a[1])\n",
    "\n",
    "p = a[1]/(a[0]+a[1])\n",
    "print('probability of positive edges = ',p)"
   ]
  },
  {
   "cell_type": "markdown",
   "metadata": {},
   "source": [
    "# Defining rp and rn"
   ]
  },
  {
   "cell_type": "code",
   "execution_count": 20,
   "metadata": {},
   "outputs": [
    {
     "name": "stdout",
     "output_type": "stream",
     "text": [
      "9183\n",
      "151188\n",
      "9183\n"
     ]
    }
   ],
   "source": [
    "edge_weights_for_new = list(np.random.choice([0, 1], size=len(nodes), p=[0.11,0.89]))\n",
    "\n",
    "#rp is fraction of neighbours of j, that i discovers given that (i,j) is + . \n",
    "#rn is the fraction of neighbours of j, that i discovers given that (i,j) is - .\n",
    "rp = 0.75\n",
    "rn = 0.23\n",
    "#len(edge_weights_for_new)\n",
    "print(len(nx.nodes(G_train_wiki)))\n",
    "print(len(nx.edges(G_train_wiki)))\n",
    "print(len(edge_weights_for_new))"
   ]
  },
  {
   "cell_type": "markdown",
   "metadata": {},
   "source": [
    "# Implementation of algo"
   ]
  },
  {
   "cell_type": "code",
   "execution_count": 22,
   "metadata": {},
   "outputs": [],
   "source": [
    "import random\n",
    "for i in range(3,len(nodes)):\n",
    "    #Pick a node j uniformly at random from {1....i-1}\n",
    "    j = random.randrange(1,i-1)\n",
    "    #Create edge (i; j)\n",
    "    G_train_wiki.add_edge(i,j)\n",
    "    #Label the edge + with prob. p, and – with prob. (1-p)\n",
    "    index_for_new_weight = random.randint(0,len(edge_weights_for_new)-1)\n",
    "    \n",
    "    if(edge_weights_for_new[index_for_new_weight] == 1):\n",
    "        G_train_wiki[i][j][0]['weight'] = 1\n",
    "    else:\n",
    "        G_train_wiki[i][j][0]['weight'] = 0\n",
    "        \n",
    "    neighb_j = G_train_wiki.neighbors(j)\n",
    "    edges_rp = list(np.random.choice([0, 1], size=len(list(neighb_j)), p=[1-rp,rp]))\n",
    "    edges_rn = list(np.random.choice([0, 1], size=len(list(neighb_j)), p=[1-rn,rn]))\n",
    "    list_prob_equal = [0,1]\n",
    "    \n",
    "    #for all neighbors k of j do\n",
    "    for k in neighb_j:\n",
    "        # If (i,j) is +ve\n",
    "        if(edge_weights_for_new[index_for_new_weight] == 1):\n",
    "            # Create edge (i; k) with prob. rp.\n",
    "            create_ik_or_not = random.randint(0,len(list(neighb_j)))\n",
    "            if(edges_rp[create_ik_or_not] == 1):\n",
    "                G_train_wiki.add_edge(i,k)\n",
    "            # If (j,k) is +ve\n",
    "            if(G_train_wiki[j][k] == 1):\n",
    "                # label edge (i,k) as +ve\n",
    "                G_train_wiki[i][k][0]['weight'] = 1\n",
    "            else:\n",
    "                # Label edge (i; k) + or – with prob. 1/2.\n",
    "                index_ik = random.randint(0,len(list_prob_equal))\n",
    "                if(list_prob_equal[index_ik] == 1):\n",
    "                    G_train_wiki[i][k][0]['weight'] = 1\n",
    "                else:\n",
    "                    G_train_wiki[i][k][0]['weight'] = 0\n",
    "                \n",
    "                \n",
    "        # If (i,j) is -ve\n",
    "        else:\n",
    "            # Create edge (i; k) with prob. rn.\n",
    "            create_ik_or_not = random.randint(0,len(list(neighb_j)))\n",
    "            if(edges_rp[create_ik_or_not] == 1):\n",
    "                G_train_wiki.add_edge(i,k)\n",
    "            # label (i,k) -ve\n",
    "            G_train_wiki[i][k][0]['weight'] = 0\n",
    "            "
   ]
  },
  {
   "cell_type": "markdown",
   "metadata": {},
   "source": [
    "# Sum of triads in predicted graph"
   ]
  },
  {
   "cell_type": "code",
   "execution_count": 23,
   "metadata": {},
   "outputs": [
    {
     "name": "stdout",
     "output_type": "stream",
     "text": [
      "The sum of each type of triads:\n"
     ]
    },
    {
     "data": {
      "text/plain": [
       "{'003': 127597144524,\n",
       " '012': 0,\n",
       " '021C': 0,\n",
       " '021D': 0,\n",
       " '021U': 0,\n",
       " '030C': 0,\n",
       " '030T': 0,\n",
       " '102': 1402653838,\n",
       " '111D': 0,\n",
       " '111U': 0,\n",
       " '120C': 0,\n",
       " '120D': 0,\n",
       " '120U': 0,\n",
       " '201': 20232963,\n",
       " '210': 0,\n",
       " '300': 1029906}"
      ]
     },
     "execution_count": 23,
     "metadata": {},
     "output_type": "execute_result"
    }
   ],
   "source": [
    "# To compare how the algo performed, we will compare the triadic statistics as follows\n",
    "G1=nx.to_directed(G_train_wiki)\n",
    "triads_t = nx.triadic_census(G1)\n",
    "\n",
    "#no of triads\n",
    "print(\"The sum of each type of triads:\")\n",
    "triads_t"
   ]
  },
  {
   "cell_type": "markdown",
   "metadata": {},
   "source": [
    "# Ratios of triads in predicted graph"
   ]
  },
  {
   "cell_type": "code",
   "execution_count": 24,
   "metadata": {},
   "outputs": [
    {
     "name": "stdout",
     "output_type": "stream",
     "text": [
      "The ratios of each type of traids:\n"
     ]
    },
    {
     "data": {
      "text/plain": [
       "[('003', 0.9889636878396884),\n",
       " ('012', 0.0),\n",
       " ('102', 0.010871510624832647),\n",
       " ('021D', 0.0),\n",
       " ('021U', 0.0),\n",
       " ('021C', 0.0),\n",
       " ('111D', 0.0),\n",
       " ('111U', 0.0),\n",
       " ('030T', 0.0),\n",
       " ('030C', 0.0),\n",
       " ('201', 0.00015681907129700936),\n",
       " ('120D', 0.0),\n",
       " ('120U', 0.0),\n",
       " ('120C', 0.0),\n",
       " ('210', 0.0),\n",
       " ('300', 7.98246418199933e-06)]"
      ]
     },
     "execution_count": 24,
     "metadata": {},
     "output_type": "execute_result"
    }
   ],
   "source": [
    "ratios_of_triads_t = []\n",
    "sum_triads_t = sum(triads_t.values()) \n",
    "\n",
    "for i in triads_t.keys():\n",
    "    ratios_of_triads_t.append((i,(triads_t[i]/sum_triads_t)))\n",
    "    \n",
    "print(\"The ratios of each type of traids:\")\n",
    "ratios_of_triads_t"
   ]
  },
  {
   "cell_type": "markdown",
   "metadata": {},
   "source": [
    "# Sum of triads in original graph"
   ]
  },
  {
   "cell_type": "code",
   "execution_count": 25,
   "metadata": {},
   "outputs": [
    {
     "name": "stdout",
     "output_type": "stream",
     "text": [
      "The sum of each type of triads:\n"
     ]
    },
    {
     "data": {
      "text/plain": [
       "{'003': 227756102603,\n",
       " '012': 0,\n",
       " '021C': 0,\n",
       " '021D': 0,\n",
       " '021U': 0,\n",
       " '030C': 0,\n",
       " '030T': 0,\n",
       " '102': 1885184670,\n",
       " '111D': 0,\n",
       " '111U': 0,\n",
       " '120C': 0,\n",
       " '120D': 0,\n",
       " '120U': 0,\n",
       " '201': 25165620,\n",
       " '210': 0,\n",
       " '300': 1340111}"
      ]
     },
     "execution_count": 25,
     "metadata": {},
     "output_type": "execute_result"
    }
   ],
   "source": [
    "# Lets get the same statistics for the original graph to see how the algo performed\n",
    "# Let's get only the training graph and try to generate the whole graph\n",
    "G_orig = nx.read_gml(\"wiki_Rfa_full_final.gml\",label='id')\n",
    "\n",
    "G1=nx.to_directed(G_orig)\n",
    "triads_f = nx.triadic_census(G1)\n",
    "\n",
    "#no of triads\n",
    "print(\"The sum of each type of triads:\")\n",
    "triads_f"
   ]
  },
  {
   "cell_type": "markdown",
   "metadata": {},
   "source": [
    "# Ratios of triads in original graph"
   ]
  },
  {
   "cell_type": "code",
   "execution_count": 26,
   "metadata": {},
   "outputs": [
    {
     "name": "stdout",
     "output_type": "stream",
     "text": [
      "The ratios of each type of traids:\n"
     ]
    },
    {
     "data": {
      "text/plain": [
       "[('003', 0.9916762800042812),\n",
       " ('012', 0.0),\n",
       " ('102', 0.008208310992770182),\n",
       " ('021D', 0.0),\n",
       " ('021U', 0.0),\n",
       " ('021C', 0.0),\n",
       " ('111D', 0.0),\n",
       " ('111U', 0.0),\n",
       " ('030T', 0.0),\n",
       " ('030C', 0.0),\n",
       " ('201', 0.000109574005439943),\n",
       " ('120D', 0.0),\n",
       " ('120U', 0.0),\n",
       " ('120C', 0.0),\n",
       " ('210', 0.0),\n",
       " ('300', 5.834997508669663e-06)]"
      ]
     },
     "execution_count": 26,
     "metadata": {},
     "output_type": "execute_result"
    }
   ],
   "source": [
    "ratios_of_triads_f = []\n",
    "sum_triads_f = sum(triads_f.values()) \n",
    "\n",
    "for i in triads_f.keys():\n",
    "    ratios_of_triads_f.append((i,(triads_f[i]/sum_triads_f)))\n",
    "    \n",
    "print(\"The ratios of each type of traids:\")\n",
    "ratios_of_triads_f"
   ]
  },
  {
   "cell_type": "markdown",
   "metadata": {},
   "source": [
    "# RMSE and r2_score for measuring accuracy"
   ]
  },
  {
   "cell_type": "code",
   "execution_count": 27,
   "metadata": {},
   "outputs": [
    {
     "name": "stdout",
     "output_type": "stream",
     "text": [
      "RMSE =  0.0009504283652480449\n",
      "r2 =  0.999984307064\n"
     ]
    }
   ],
   "source": [
    "# To quantify the performance of the algo, let's define \"Accuracy\" wrt to the ratios of triads as :\n",
    "y_actual = []\n",
    "y_predicted = []\n",
    "\n",
    "for i in range(len(ratios_of_triads_f)):\n",
    "    y_actual.append(ratios_of_triads_f[i][1])\n",
    "    y_predicted.append(ratios_of_triads_t[i][1])\n",
    "\n",
    "from sklearn.metrics import mean_squared_error\n",
    "from sklearn.metrics import r2_score\n",
    "from math import sqrt\n",
    "\n",
    "rms = sqrt(mean_squared_error(y_actual, y_predicted))\n",
    "print('RMSE = ',rms)\n",
    "\n",
    "r2 = r2_score(y_actual, y_predicted)\n",
    "print('r2 = ',r2)"
   ]
  },
  {
   "cell_type": "markdown",
   "metadata": {},
   "source": [
    "# Centrality plots for predicted graph"
   ]
  },
  {
   "cell_type": "code",
   "execution_count": 28,
   "metadata": {},
   "outputs": [
    {
     "ename": "KeyboardInterrupt",
     "evalue": "",
     "output_type": "error",
     "traceback": [
      "\u001b[1;31m---------------------------------------------------------------------------\u001b[0m",
      "\u001b[1;31mKeyboardInterrupt\u001b[0m                         Traceback (most recent call last)",
      "\u001b[1;32m<ipython-input-28-3fc386bd078e>\u001b[0m in \u001b[0;36m<module>\u001b[1;34m()\u001b[0m\n\u001b[0;32m      5\u001b[0m \u001b[1;33m\u001b[0m\u001b[0m\n\u001b[0;32m      6\u001b[0m \u001b[0mdegc\u001b[0m \u001b[1;33m=\u001b[0m \u001b[0mnx\u001b[0m\u001b[1;33m.\u001b[0m\u001b[0mdegree_centrality\u001b[0m\u001b[1;33m(\u001b[0m\u001b[0mG1\u001b[0m\u001b[1;33m)\u001b[0m\u001b[1;33m\u001b[0m\u001b[0m\n\u001b[1;32m----> 7\u001b[1;33m \u001b[0mbet\u001b[0m \u001b[1;33m=\u001b[0m \u001b[0mnx\u001b[0m\u001b[1;33m.\u001b[0m\u001b[0mbetweenness_centrality\u001b[0m\u001b[1;33m(\u001b[0m\u001b[0mG1\u001b[0m\u001b[1;33m)\u001b[0m\u001b[1;33m\u001b[0m\u001b[0m\n\u001b[0m\u001b[0;32m      8\u001b[0m \u001b[0mclos\u001b[0m \u001b[1;33m=\u001b[0m \u001b[0mnx\u001b[0m\u001b[1;33m.\u001b[0m\u001b[0mcloseness_centrality\u001b[0m\u001b[1;33m(\u001b[0m\u001b[0mG1\u001b[0m\u001b[1;33m)\u001b[0m\u001b[1;33m\u001b[0m\u001b[0m\n\u001b[0;32m      9\u001b[0m \u001b[0meig\u001b[0m \u001b[1;33m=\u001b[0m \u001b[0mnx\u001b[0m\u001b[1;33m.\u001b[0m\u001b[0meigenvector_centrality\u001b[0m\u001b[1;33m(\u001b[0m\u001b[0mG1\u001b[0m\u001b[1;33m)\u001b[0m\u001b[1;33m\u001b[0m\u001b[0m\n",
      "\u001b[1;32mC:\\Users\\AVINASH\\Anaconda3\\lib\\site-packages\\networkx\\algorithms\\centrality\\betweenness.py\u001b[0m in \u001b[0;36mbetweenness_centrality\u001b[1;34m(G, k, normalized, weight, endpoints, seed)\u001b[0m\n\u001b[0;32m    111\u001b[0m         \u001b[1;31m# single source shortest paths\u001b[0m\u001b[1;33m\u001b[0m\u001b[1;33m\u001b[0m\u001b[0m\n\u001b[0;32m    112\u001b[0m         \u001b[1;32mif\u001b[0m \u001b[0mweight\u001b[0m \u001b[1;32mis\u001b[0m \u001b[1;32mNone\u001b[0m\u001b[1;33m:\u001b[0m  \u001b[1;31m# use BFS\u001b[0m\u001b[1;33m\u001b[0m\u001b[0m\n\u001b[1;32m--> 113\u001b[1;33m             \u001b[0mS\u001b[0m\u001b[1;33m,\u001b[0m \u001b[0mP\u001b[0m\u001b[1;33m,\u001b[0m \u001b[0msigma\u001b[0m \u001b[1;33m=\u001b[0m \u001b[0m_single_source_shortest_path_basic\u001b[0m\u001b[1;33m(\u001b[0m\u001b[0mG\u001b[0m\u001b[1;33m,\u001b[0m \u001b[0ms\u001b[0m\u001b[1;33m)\u001b[0m\u001b[1;33m\u001b[0m\u001b[0m\n\u001b[0m\u001b[0;32m    114\u001b[0m         \u001b[1;32melse\u001b[0m\u001b[1;33m:\u001b[0m  \u001b[1;31m# use Dijkstra's algorithm\u001b[0m\u001b[1;33m\u001b[0m\u001b[0m\n\u001b[0;32m    115\u001b[0m             \u001b[0mS\u001b[0m\u001b[1;33m,\u001b[0m \u001b[0mP\u001b[0m\u001b[1;33m,\u001b[0m \u001b[0msigma\u001b[0m \u001b[1;33m=\u001b[0m \u001b[0m_single_source_dijkstra_path_basic\u001b[0m\u001b[1;33m(\u001b[0m\u001b[0mG\u001b[0m\u001b[1;33m,\u001b[0m \u001b[0ms\u001b[0m\u001b[1;33m,\u001b[0m \u001b[0mweight\u001b[0m\u001b[1;33m)\u001b[0m\u001b[1;33m\u001b[0m\u001b[0m\n",
      "\u001b[1;32mC:\\Users\\AVINASH\\Anaconda3\\lib\\site-packages\\networkx\\algorithms\\centrality\\betweenness.py\u001b[0m in \u001b[0;36m_single_source_shortest_path_basic\u001b[1;34m(G, s)\u001b[0m\n\u001b[0;32m    238\u001b[0m                 \u001b[0mQ\u001b[0m\u001b[1;33m.\u001b[0m\u001b[0mappend\u001b[0m\u001b[1;33m(\u001b[0m\u001b[0mw\u001b[0m\u001b[1;33m)\u001b[0m\u001b[1;33m\u001b[0m\u001b[0m\n\u001b[0;32m    239\u001b[0m                 \u001b[0mD\u001b[0m\u001b[1;33m[\u001b[0m\u001b[0mw\u001b[0m\u001b[1;33m]\u001b[0m \u001b[1;33m=\u001b[0m \u001b[0mDv\u001b[0m \u001b[1;33m+\u001b[0m \u001b[1;36m1\u001b[0m\u001b[1;33m\u001b[0m\u001b[0m\n\u001b[1;32m--> 240\u001b[1;33m             \u001b[1;32mif\u001b[0m \u001b[0mD\u001b[0m\u001b[1;33m[\u001b[0m\u001b[0mw\u001b[0m\u001b[1;33m]\u001b[0m \u001b[1;33m==\u001b[0m \u001b[0mDv\u001b[0m \u001b[1;33m+\u001b[0m \u001b[1;36m1\u001b[0m\u001b[1;33m:\u001b[0m   \u001b[1;31m# this is a shortest path, count paths\u001b[0m\u001b[1;33m\u001b[0m\u001b[0m\n\u001b[0m\u001b[0;32m    241\u001b[0m                 \u001b[0msigma\u001b[0m\u001b[1;33m[\u001b[0m\u001b[0mw\u001b[0m\u001b[1;33m]\u001b[0m \u001b[1;33m+=\u001b[0m \u001b[0msigmav\u001b[0m\u001b[1;33m\u001b[0m\u001b[0m\n\u001b[0;32m    242\u001b[0m                 \u001b[0mP\u001b[0m\u001b[1;33m[\u001b[0m\u001b[0mw\u001b[0m\u001b[1;33m]\u001b[0m\u001b[1;33m.\u001b[0m\u001b[0mappend\u001b[0m\u001b[1;33m(\u001b[0m\u001b[0mv\u001b[0m\u001b[1;33m)\u001b[0m  \u001b[1;31m# predecessors\u001b[0m\u001b[1;33m\u001b[0m\u001b[0m\n",
      "\u001b[1;31mKeyboardInterrupt\u001b[0m: "
     ]
    }
   ],
   "source": [
    "#all plots for generated graph\n",
    "import pandas as pd\n",
    "import seaborn as sns\n",
    "sns.set(style=\"ticks\", color_codes=True)\n",
    "\n",
    "degc = nx.degree_centrality(G1)\n",
    "bet = nx.betweenness_centrality(G1)\n",
    "clos = nx.closeness_centrality(G1)\n",
    "eig = nx.eigenvector_centrality(G1)\n",
    "\n",
    "centrality_measures = {\n",
    "'degree': degc,\n",
    "'betweenness': bet,\n",
    "'closeness': clos,\n",
    "'eigenvector': eig,\n",
    "}\n",
    "centrality = pd.DataFrame(centrality_measures)\n",
    "centrality\n",
    "sns.pairplot(centrality)\n",
    "plt.show()"
   ]
  },
  {
   "cell_type": "markdown",
   "metadata": {},
   "source": [
    "# Centrality plots for original graph"
   ]
  },
  {
   "cell_type": "code",
   "execution_count": null,
   "metadata": {
    "collapsed": true
   },
   "outputs": [],
   "source": [
    "#all plots for original graph\n",
    "import pandas as pd\n",
    "import seaborn as sns\n",
    "sns.set(style=\"ticks\", color_codes=True)\n",
    "\n",
    "degc = nx.degree_centrality(G_orig)\n",
    "bet = nx.betweenness_centrality(G_orig)\n",
    "clos = nx.closeness_centrality(G_orig)\n",
    "eig = nx.eigenvector_centrality(G_orig)\n",
    "\n",
    "centrality_measures = {\n",
    "'degree': degc,\n",
    "'betweenness': bet,\n",
    "'closeness': clos,\n",
    "'eigenvector': eig,\n",
    "}\n",
    "centrality = pd.DataFrame(centrality_measures)\n",
    "centrality\n",
    "sns.pairplot(centrality)\n",
    "plt.show()"
   ]
  },
  {
   "cell_type": "markdown",
   "metadata": {},
   "source": [
    "# Degree distribution histogram for predicted graph"
   ]
  },
  {
   "cell_type": "code",
   "execution_count": null,
   "metadata": {
    "collapsed": true
   },
   "outputs": [],
   "source": [
    "import collections\n",
    "\n",
    "degree_sequence = sorted([d for n, d in G1.degree()], reverse=True)  # degree sequence\n",
    "# print \"Degree sequence\", degree_sequence\n",
    "degreeCount = collections.Counter(degree_sequence)\n",
    "deg, cnt = zip(*degreeCount.items())\n",
    "\n",
    "fig, ax = plt.subplots()\n",
    "plt.bar(deg, cnt, width=0.80, color='b')\n",
    "\n",
    "plt.title(\"Degree Distribution Histogram\")\n",
    "plt.ylabel(\"Count\")\n",
    "plt.xlabel(\"Degree\")\n",
    "ax.set_xticks([d + 0.4 for d in deg])\n",
    "ax.set_xticklabels(deg)\n",
    "\n",
    "# draw graph in inset\n",
    "plt.axes([1, 1, 1.2, 1.2])\n",
    "Gcc = sorted(nx.connected_component_subgraphs(G1), key=len, reverse=True)[0]\n",
    "pos = nx.spring_layout(G1)\n",
    "plt.axis('off')\n",
    "nx.draw_networkx_nodes(G1, pos, node_size=20)\n",
    "nx.draw_networkx_edges(G1, pos, alpha=0.4)\n",
    "\n",
    "plt.show()"
   ]
  },
  {
   "cell_type": "markdown",
   "metadata": {},
   "source": [
    "# Degree distribution histogram for original graph"
   ]
  },
  {
   "cell_type": "code",
   "execution_count": null,
   "metadata": {
    "collapsed": true
   },
   "outputs": [],
   "source": [
    "import collections\n",
    "\n",
    "degree_sequence = sorted([d for n, d in G.degree()], reverse=True)  # degree sequence\n",
    "# print \"Degree sequence\", degree_sequence\n",
    "degreeCount = collections.Counter(degree_sequence)\n",
    "deg, cnt = zip(*degreeCount.items())\n",
    "\n",
    "fig, ax = plt.subplots()\n",
    "plt.bar(deg, cnt, width=0.80, color='b')\n",
    "\n",
    "plt.title(\"Degree Distribution Histogram\")\n",
    "plt.ylabel(\"Count\")\n",
    "plt.xlabel(\"Degree\")\n",
    "ax.set_xticks([d + 0.4 for d in deg])\n",
    "ax.set_xticklabels(deg)\n",
    "\n",
    "# draw graph in inset\n",
    "plt.axes([1, 1, 1.2, 1.2])\n",
    "Gcc = sorted(nx.connected_component_subgraphs(G), key=len, reverse=True)[0]\n",
    "pos = nx.spring_layout(G)\n",
    "plt.axis('off')\n",
    "nx.draw_networkx_nodes(G, pos, node_size=20)\n",
    "nx.draw_networkx_edges(G, pos, alpha=0.4)\n",
    "\n",
    "plt.show()"
   ]
  },
  {
   "cell_type": "markdown",
   "metadata": {},
   "source": [
    "# Log-log plot for predicted graph"
   ]
  },
  {
   "cell_type": "code",
   "execution_count": 31,
   "metadata": {},
   "outputs": [
    {
     "data": {
      "image/png": "[encoded data removed]",
      "text/plain": [
       "<matplotlib.figure.Figure at 0x18bd3240dd8>"
      ]
     },
     "metadata": {},
     "output_type": "display_data"
    },
    {
     "data": {
      "image/png": "[encoded data removed]",
      "text/plain": [
       "<matplotlib.figure.Figure at 0x18bd3816748>"
      ]
     },
     "metadata": {},
     "output_type": "display_data"
    },
    {
     "data": {
      "image/png": "[encoded data removed]",
      "text/plain": [
       "<matplotlib.figure.Figure at 0x18bd37872b0>"
      ]
     },
     "metadata": {},
     "output_type": "display_data"
    }
   ],
   "source": [
    "import collections\n",
    "\n",
    "degree_sequence = sorted([d for n, d in G1.degree()], reverse=True)  # degree sequence\n",
    "# print \"Degree sequence\", degree_sequence\n",
    "degreeCount = collections.Counter(degree_sequence)\n",
    "deg, cnt = zip(*degreeCount.items())\n",
    "\n",
    "fig, ax = plt.subplots()\n",
    "plt.bar(deg, cnt, width=0.80, color='b')\n",
    "plt.loglog(degree_sequence,'b-',marker='o')\n",
    "plt.title(\"log-log plot\")\n",
    "plt.ylabel(\"Degree\")\n",
    "plt.xlabel(\"rank\")\n",
    "ax.set_xticks([d + 0.4 for d in deg])\n",
    "ax.set_xticklabels(deg)\n",
    "\n",
    "plt.savefig(\"log-log-predicted_b.png\")\n",
    "plt.show()"
   ]
  },
  {
   "cell_type": "markdown",
   "metadata": {},
   "source": [
    "# Log-log plot for original graph"
   ]
  },
  {
   "cell_type": "code",
   "execution_count": 33,
   "metadata": {},
   "outputs": [
    {
     "data": {
      "image/png": "[encoded data removed]",
      "text/plain": [
       "<matplotlib.figure.Figure at 0x18bd6489358>"
      ]
     },
     "metadata": {},
     "output_type": "display_data"
    }
   ],
   "source": [
    "import collections\n",
    "\n",
    "degree_sequence = sorted([d for n, d in G_orig.degree()], reverse=True)  # degree sequence\n",
    "# print \"Degree sequence\", degree_sequence\n",
    "# degreeCount = collections.Counter(degree_sequence)\n",
    "# deg, cnt = zip(*degreeCount.items())\n",
    "\n",
    "# fig, ax = plt.subplots()\n",
    "# plt.bar(deg, cnt, width=0.80, color='b')\n",
    "plt.loglog(degree_sequence,'b-',marker='o')\n",
    "plt.title(\"log-log plot\")\n",
    "plt.ylabel(\"Degree\")\n",
    "plt.xlabel(\"rank\")\n",
    "ax.set_xticks([d + 0.4 for d in deg])\n",
    "ax.set_xticklabels(deg)\n",
    "\n",
    "plt.savefig(\"log-log-predicted_w.png\")\n",
    "plt.show()"
   ]
  },
  {
   "cell_type": "markdown",
   "metadata": {},
   "source": [
    "# Degree-rank plot for predicted graph"
   ]
  },
  {
   "cell_type": "code",
   "execution_count": 36,
   "metadata": {},
   "outputs": [
    {
     "data": {
      "image/png": "[encoded data removed]",
      "text/plain": [
       "<matplotlib.figure.Figure at 0x18bd621c748>"
      ]
     },
     "metadata": {},
     "output_type": "display_data"
    }
   ],
   "source": [
    "degree_sequence = sorted([d for n, d in G1.degree()], reverse=True)  # degree sequence#print \"Degree sequence\", degree_sequence\n",
    "dmax=max(degree_sequence)\n",
    "\n",
    "plt.loglog(degree_sequence,'b-',marker='o')\n",
    "plt.title(\"Degree rank plot\")\n",
    "plt.ylabel(\"degree\")\n",
    "plt.xlabel(\"rank\")\n",
    "\n",
    "plt.savefig(\"degree-rank-original_w.png\")\n",
    "plt.show()"
   ]
  },
  {
   "cell_type": "markdown",
   "metadata": {},
   "source": [
    "# Degree-rank plot for original graph"
   ]
  },
  {
   "cell_type": "code",
   "execution_count": 35,
   "metadata": {},
   "outputs": [
    {
     "data": {
      "image/png": "[encoded data removed]",
      "text/plain": [
       "<matplotlib.figure.Figure at 0x18bd619a160>"
      ]
     },
     "metadata": {},
     "output_type": "display_data"
    }
   ],
   "source": [
    "degree_sequence = sorted([d for n, d in G_orig.degree()], reverse=True)  # degree sequence#print \"Degree sequence\", degree_sequence\n",
    "dmax=max(degree_sequence)\n",
    "\n",
    "plt.loglog(degree_sequence,'b-',marker='o')\n",
    "plt.title(\"Degree rank plot\")\n",
    "plt.ylabel(\"degree\")\n",
    "plt.xlabel(\"rank\")\n",
    "\n",
    "plt.savefig(\"degree-rank-original_w.png\")\n",
    "plt.show()"
   ]
  },
  {
   "cell_type": "markdown",
   "metadata": {},
   "source": [
    "# Getting the labels"
   ]
  },
  {
   "cell_type": "code",
   "execution_count": 37,
   "metadata": {},
   "outputs": [
    {
     "name": "stdout",
     "output_type": "stream",
     "text": [
      "[0.9916762800042812, 0.008208310992770182, 0.000109574005439943, 5.834997508669663e-06] ['003', '102', '201', '300']\n",
      "[0.9889636878396884, 0.010871510624832647, 0.00015681907129700936, 7.98246418199933e-06] ['003', '102', '201', '300']\n"
     ]
    }
   ],
   "source": [
    "actual_f = []\n",
    "actual_f_labels = []\n",
    "predicted_f = []\n",
    "predicted_f_labels = []\n",
    "for i in ratios_of_triads_f:\n",
    "    if i[1] != 0.0:\n",
    "        actual_f.append(i[1])\n",
    "        actual_f_labels.append(i[0])\n",
    "for i in ratios_of_triads_t:\n",
    "    if i[1] != 0.0:\n",
    "        predicted_f.append(i[1])\n",
    "        predicted_f_labels.append(i[0])\n",
    "print(actual_f , actual_f_labels)\n",
    "print(predicted_f , predicted_f_labels)"
   ]
  },
  {
   "cell_type": "markdown",
   "metadata": {},
   "source": [
    "# Accuracy measure plots"
   ]
  },
  {
   "cell_type": "markdown",
   "metadata": {},
   "source": [
    "# Scores by ratio of triads and type"
   ]
  },
  {
   "cell_type": "code",
   "execution_count": 38,
   "metadata": {},
   "outputs": [
    {
     "data": {
      "image/png": "[encoded data removed]",
      "text/plain": [
       "<matplotlib.figure.Figure at 0x18bd6606978>"
      ]
     },
     "metadata": {},
     "output_type": "display_data"
    }
   ],
   "source": [
    "import numpy as np\n",
    "import matplotlib.pyplot as plt\n",
    "from matplotlib.ticker import MaxNLocator\n",
    "from collections import namedtuple\n",
    "\n",
    "\n",
    "n_groups = 4\n",
    "\n",
    "fig, ax = plt.subplots()\n",
    "\n",
    "index = np.arange(n_groups)\n",
    "bar_width = 0.35\n",
    "\n",
    "opacity = 0.4\n",
    "error_config = {'ecolor': '0.3'}\n",
    "\n",
    "rects1 = ax.bar(index, predicted_f, bar_width,\n",
    "                alpha=opacity, color='b',\n",
    "                label='generated')\n",
    "\n",
    "rects2 = ax.bar(index + bar_width, actual_f, bar_width,\n",
    "                alpha=opacity, color='r',\n",
    "                label='actual')\n",
    "\n",
    "ax.set_xlabel('Group')\n",
    "ax.set_ylabel('Scores')\n",
    "ax.set_title('Scores by ratio of triads and type')\n",
    "ax.set_xticks(index + bar_width / 2)\n",
    "ax.set_xticklabels(actual_f_labels)\n",
    "ax.legend()\n",
    "\n",
    "fig.tight_layout()\n",
    "plt.show()"
   ]
  },
  {
   "cell_type": "markdown",
   "metadata": {},
   "source": [
    "# Log(scores)"
   ]
  },
  {
   "cell_type": "code",
   "execution_count": null,
   "metadata": {
    "collapsed": true
   },
   "outputs": [],
   "source": [
    "#log scores are plotted for each type of triads\n",
    "import math\n",
    "actual_scores_f = []\n",
    "actual_scores_f_labels = []\n",
    "predicted_scores_f = []\n",
    "predicted_scores_f_labels = []\n",
    "for k,v in triads_f.items():\n",
    "    if triads_f[k] != 0:\n",
    "        actual_scores_f.append(math.log(v))\n",
    "        actual_scores_f_labels.append(k)\n",
    "for k,v in triads_t.items():\n",
    "    if triads_t[k] != 0:\n",
    "        predicted_scores_f.append(math.log(v))\n",
    "        predicted_scores_f_labels.append(k)\n",
    "print(actual_scores_f , actual_scores_f_labels)\n",
    "print(predicted_scores_f , predicted_scores_f_labels)"
   ]
  },
  {
   "cell_type": "markdown",
   "metadata": {},
   "source": [
    "# Scores by triad type and no of triads"
   ]
  },
  {
   "cell_type": "code",
   "execution_count": null,
   "metadata": {
    "collapsed": true
   },
   "outputs": [],
   "source": [
    "import numpy as np\n",
    "import matplotlib.pyplot as plt\n",
    "from matplotlib.ticker import MaxNLocator\n",
    "from collections import namedtuple\n",
    "\n",
    "\n",
    "n_groups = 4\n",
    "\n",
    "fig, ax = plt.subplots()\n",
    "\n",
    "index = np.arange(n_groups)\n",
    "bar_width = 0.35\n",
    "\n",
    "opacity = 0.4\n",
    "error_config = {'ecolor': '0.3'}\n",
    "\n",
    "rects1 = ax.bar(index, predicted_scores_f, bar_width,\n",
    "                alpha=opacity, color='b',\n",
    "                label='generated')\n",
    "\n",
    "rects2 = ax.bar(index + bar_width, actual_scores_f, bar_width,\n",
    "                alpha=opacity, color='r',\n",
    "                label='actual')\n",
    "\n",
    "ax.set_xlabel('type of triad')\n",
    "ax.set_ylabel('log(no of triads)')\n",
    "ax.set_title('Scores by triad type and no of triads')\n",
    "ax.set_xticks(index + bar_width / 2)\n",
    "ax.set_xticklabels(actual_scores_f_labels)\n",
    "ax.legend()\n",
    "\n",
    "fig.tight_layout()\n",
    "plt.show()"
   ]
  }
 ],
 "metadata": {
  "kernelspec": {
   "display_name": "Python 3",
   "language": "python",
   "name": "python3"
  },
  "language_info": {
   "codemirror_mode": {
    "name": "ipython",
    "version": 3
   },
   "file_extension": ".py",
   "mimetype": "text/x-python",
   "name": "python",
   "nbconvert_exporter": "python",
   "pygments_lexer": "ipython3",
   "version": "3.6.5"
  }
 },
 "nbformat": 4,
 "nbformat_minor": 2
}
